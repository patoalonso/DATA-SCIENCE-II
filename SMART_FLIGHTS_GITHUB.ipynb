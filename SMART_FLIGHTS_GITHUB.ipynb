{
 "cells": [
  {
   "cell_type": "markdown",
   "metadata": {
    "id": "w26pawDr8hi2"
   },
   "source": [
    "Data Science II - Coderhouse\n",
    "\n",
    "Alumna: PATRICIA ALONSO CASTILLO\n",
    "\n",
    "Comisión: 75690"
   ]
  },
  {
   "cell_type": "markdown",
   "metadata": {
    "id": "cq8i8NFVIh6R"
   },
   "source": [
    "# PROYECTO SMART FLIGHTS  -Mejorando la Experiencia de Vuelo con Datos-"
   ]
  },
  {
   "cell_type": "markdown",
   "metadata": {
    "id": "qV-PGUbDHok0"
   },
   "source": [
    "# INTRODUCCION\n",
    "\n",
    "Este proyecto analiza datos históricos de demoras de vuelos en EE. UU. durante 2019. El objetivo es construir un modelo predictivo que permita anticipar demoras y cancelaciones, proporcionando herramientas para optimizar la planificación de viajes y mejorar la experiencia de los clientes, especialmente para agencias de viajes."
   ]
  },
  {
   "cell_type": "markdown",
   "metadata": {
    "id": "aOMb-9g6dWjZ"
   },
   "source": [
    "FUENTE\n",
    "\n",
    "Los datos utilizados en este trabajo fueron obtenidos de Kaggle y se encuentran disponibles en el siguiente enlace: 2019 Airline Delays and Cancellations: https://www.kaggle.com/datasets/threnjen/2019-airline-delays-and-cancellations\n",
    "\n",
    "Este conjunto de datos proporciona información detallada sobre retrasos y cancelaciones de vuelos en 2019, incluyendo atributos como la aerolínea, el aeropuerto de origen y destino, datos climáticos, y otros factores relevantes. El análisis de estos datos permitirá identificar patrones y construir un modelo predictivo robusto para evaluar las causas de los retrasos en vuelos y predecir cancelaciones o demoras de llegada a destino."
   ]
  },
  {
   "cell_type": "markdown",
   "metadata": {
    "id": "M3RX4lH7IaZa"
   },
   "source": [
    "# IMPORTACION DE LIBRERIAS Y CARGA DE DATOS"
   ]
  },
  {
   "cell_type": "code",
   "execution_count": null,
   "metadata": {},
   "outputs": [],
   "source": [
    "import pandas as pd\n",
    "import numpy as np\n",
    "import matplotlib.pyplot as plt\n",
    "import seaborn as sns\n",
    "import os"
   ]
  },
  {
   "cell_type": "code",
   "execution_count": null,
   "metadata": {},
   "outputs": [],
   "source": [
    "from google.colab import drive\n",
    "drive.mount('/content/gdrive')\n",
    "df_vuelos= pd.read_csv('/content/gdrive/MyDrive/CODER DATA SCIENCE/full_data_flightdelay.csv')\n",
    "df_vuelos.head()"
   ]
  },
  {
   "cell_type": "markdown",
   "metadata": {
    "id": "wHxjx3xyfpHM"
   },
   "source": [
    "# ANALISIS EXPLORATORIO DE DATOS (EDA)\n",
    "\n",
    "En esta etapa, se analiza el conjunto de datos para visualizar sus características y distribuciones. Este proceso permitirá identificar tendencias, patrones y relaciones importantes entre las variables."
   ]
  },
  {
   "cell_type": "markdown",
   "metadata": {
    "id": "ErLPdnATb-Ig"
   },
   "source": [
    "## EXPLORACION GENERAL DEL DATASET"
   ]
  },
  {
   "cell_type": "markdown",
   "metadata": {
    "id": "XraBM4V7N5ze"
   },
   "source": [
    "### Revisar las dimensiones del dataset"
   ]
  },
  {
   "cell_type": "code",
   "execution_count": null,
   "metadata": {},
   "outputs": [],
   "source": [
    "df_vuelos.shape"
   ]
  },
  {
   "cell_type": "markdown",
   "metadata": {
    "id": "CnMSkkI35uV-"
   },
   "source": [
    "Se observa que el conjunto de datos tiene 6.489.062 filas y 26 columnas"
   ]
  },
  {
   "cell_type": "markdown",
   "metadata": {
    "id": "4YKpbRsuOxZA"
   },
   "source": [
    "### Resumen estructural del dataset"
   ]
  },
  {
   "cell_type": "code",
   "execution_count": null,
   "metadata": {},
   "outputs": [],
   "source": [
    "df_vuelos.info()"
   ]
  },
  {
   "cell_type": "markdown",
   "metadata": {
    "id": "J-0rdMUK_Zie"
   },
   "source": [
    "Se observa una combinación de tipos de datos: int64, float64 y object, lo cual\n",
    "es esperable para un dataset de vuelos que incluye información numérica y categórica.\n",
    "\n",
    "No se evidencian valores nulos, lo cual facilita el análisis posterior y reduce la necesidad de imputaciones.\n",
    "\n",
    "El uso de memoria supera 1.3 GB, por lo que podría evaluarse su optimización si se trabaja en entornos con recursos limitados."
   ]
  },
  {
   "cell_type": "code",
   "execution_count": null,
   "metadata": {},
   "outputs": [],
   "source": [
    "#Otro método para identificar los tipos de datos\n",
    "df_vuelos.dtypes"
   ]
  },
  {
   "cell_type": "markdown",
   "metadata": {
    "id": "VDVrGAGDR6Qp"
   },
   "source": [
    "### Resumen estadístico de variables numéricas"
   ]
  },
  {
   "cell_type": "code",
   "execution_count": null,
   "metadata": {},
   "outputs": [],
   "source": [
    "df_vuelos.describe()"
   ]
  },
  {
   "cell_type": "markdown",
   "metadata": {
    "id": "4sxs4l0ShXEL"
   },
   "source": [
    "ALGUNAS INTERPRETACIONES DE LAS MEDIDAS OBSERVADAS:"
   ]
  },
  {
   "cell_type": "markdown",
   "metadata": {
    "id": "FHzROmcltyFS"
   },
   "source": [
    "\n",
    "*   El promedio de asientos (NUMBER_OF_SEATS) es 133. Esto indica que la mayoría de los vuelos son de aviones pequeños a medianos.\n",
    "*   Con un promedio de DEP_DEL15 = 0.189, indica que el 18.9% de los vuelos tuvieron demoras superiores a 15 minutos.\n",
    "*   Con CONCURRENT_FLIGHTS promedio es ~27.8, esto indica que, en promedio, hay cerca de 28 vuelos operando simultáneamente en un aeropuerto.\n",
    "*    El promedio PRCP ~0.103, esto indica que, en promedio, hay baja precipitación en los días observados. (Un promedio de 0.103 equivale a 2.62 mm diarios (1 pulgada = 25.4 mm) (Se considera que una lluvia es mucha cuando supera los 50 milímetros en 24 horas).\n",
    "*   NUMBER_OF_SEATS Si el promedio es ~133.7, esto indica que la mayoría de los vuelos son operados por aviones de tamaño pequeño a mediano.\n",
    "*   AIRPORT_FLIGHTS_MONTH Si el promedio es ~12,684, esto indica que, en promedio, cada aeropuerto gestiona alrededor de 12,000 vuelos al mes.\n",
    "*   TMAX Si el promedio es ~ 71.4°F (~21.9°C), la mayoría de los vuelos ocurren en climas moderados.\n",
    "*   DAY_OF_WEEK Si el promedio es ~3.93, esto indica que el tráfico promedio se concentra alrededor del jueves (día 4).\n",
    "*   AWND Si el promedio es ~ 8.34 mph (~13.4 km/h), la mayoría de los días tienen vientos moderados.\n",
    "*   Con SNOW 3.16 pulgadas ≈ 80.26 mm de nieve diaria promedio, representa una cantidad moderada a alta de nieve, lo que puede ser significativo en términos de impacto en las operaciones de transporte y vuelos.\n",
    "\n",
    "\n",
    "\n",
    "\n",
    "\n",
    "\n",
    "\n",
    "\n",
    "\n"
   ]
  },
  {
   "cell_type": "markdown",
   "metadata": {
    "id": "CYroUAvnVz-G"
   },
   "source": [
    "### Exploración de valores únicos de las variables"
   ]
  },
  {
   "cell_type": "markdown",
   "metadata": {
    "id": "owI1ww96eOZj"
   },
   "source": [
    "Esto me permite:\n",
    "\n",
    "-Conocer cómo están representadas las categorías.\n",
    "\n",
    "-Identificar posibles errores de carga, inconsistencias o formatos duplicados.\n",
    "\n",
    "-Evaluar la variedad o cardinalidad de cada variable."
   ]
  },
  {
   "cell_type": "code",
   "execution_count": null,
   "metadata": {},
   "outputs": [],
   "source": [
    "print(df_vuelos[\"DEP_TIME_BLK\"].unique())"
   ]
  },
  {
   "cell_type": "code",
   "execution_count": null,
   "metadata": {},
   "outputs": [],
   "source": [
    "print(df_vuelos[\"CARRIER_NAME\"].unique())"
   ]
  },
  {
   "cell_type": "code",
   "execution_count": null,
   "metadata": {},
   "outputs": [],
   "source": [
    "print(df_vuelos[\"DEPARTING_AIRPORT\"].unique())"
   ]
  },
  {
   "cell_type": "code",
   "execution_count": null,
   "metadata": {},
   "outputs": [],
   "source": [
    "print(df_vuelos[\"PREVIOUS_AIRPORT\"].unique())"
   ]
  },
  {
   "cell_type": "markdown",
   "metadata": {
    "id": "DIj1QOVsV-I4"
   },
   "source": [
    "### Detección de valores nulos"
   ]
  },
  {
   "cell_type": "code",
   "execution_count": null,
   "metadata": {},
   "outputs": [],
   "source": [
    "nulos_por_columna = df_vuelos.isnull().sum()\n",
    "print(nulos_por_columna)"
   ]
  },
  {
   "cell_type": "markdown",
   "metadata": {
    "id": "ydFp-0133iCM"
   },
   "source": [
    "No se observan valores nulos"
   ]
  },
  {
   "cell_type": "markdown",
   "metadata": {
    "id": "XekENQAsfJrH"
   },
   "source": [
    "## ESTUDIO DE VARIABLES CLAVE DEL NEGOCIO"
   ]
  },
  {
   "cell_type": "markdown",
   "metadata": {
    "id": "sHTyofyUgUWo"
   },
   "source": [
    "### Distribución mensual de vuelos"
   ]
  },
  {
   "cell_type": "code",
   "execution_count": null,
   "metadata": {},
   "outputs": [],
   "source": [
    "vuelos_por_mes = df_vuelos.groupby('MONTH').size()\n",
    "vuelos_por_mes"
   ]
  },
  {
   "cell_type": "code",
   "execution_count": null,
   "metadata": {},
   "outputs": [],
   "source": [
    "suma_total_vuelos_mes = vuelos_por_mes .sum()\n",
    "suma_total_vuelos_mes"
   ]
  },
  {
   "cell_type": "markdown",
   "metadata": {
    "id": "426Dv_Ea-TsR"
   },
   "source": [
    "Para verificar que la cantidad de vuelos coincide con la cantidad de filas del dataset (ya que cada fila representa un vuelo), primero calculé el total de vuelos agrupados por mes y luego sumé estos valores. Comparé este total con el número de filas del dataset para confirmar la consistencia de los datos."
   ]
  },
  {
   "cell_type": "code",
   "execution_count": null,
   "metadata": {},
   "outputs": [],
   "source": [
    "plt.figure(figsize=(5, 3))\n",
    "plt.bar(vuelos_por_mes.index, vuelos_por_mes.values)\n",
    "plt.title('Cantidad de vuelos por mes durante 2019', fontsize=16)\n",
    "plt.xlabel('Mes', fontsize=14)\n",
    "plt.ylabel('Cantidad de vuelos', fontsize=14)\n",
    "plt.xticks(ticks=vuelos_por_mes.index, labels=vuelos_por_mes.index, fontsize=12)\n",
    "plt.grid(axis='y', linestyle='-')"
   ]
  },
  {
   "cell_type": "markdown",
   "metadata": {
    "id": "I1y2_YXeDydA"
   },
   "source": [
    "Se observa que la mayor cantidad de vuelos se produce en los meses julio y agosto (vacaciones de verano en EEUU); y la menor en el mes de febrero"
   ]
  },
  {
   "cell_type": "markdown",
   "metadata": {
    "id": "Hgvf72IchHRl"
   },
   "source": [
    "### Distribución semanal de vuelos"
   ]
  },
  {
   "cell_type": "code",
   "execution_count": null,
   "metadata": {},
   "outputs": [],
   "source": [
    "vuelos_por_dia_semana = df_vuelos.groupby('DAY_OF_WEEK').size()\n",
    "print(vuelos_por_dia_semana)"
   ]
  },
  {
   "cell_type": "code",
   "execution_count": null,
   "metadata": {},
   "outputs": [],
   "source": [
    "suma_total_dia_semana = vuelos_por_dia_semana .sum()\n",
    "suma_total_dia_semana"
   ]
  },
  {
   "cell_type": "markdown",
   "metadata": {
    "id": "FxT93ZILEZYr"
   },
   "source": [
    "Vuelvo a confirmar la consistencia de los datos"
   ]
  },
  {
   "cell_type": "code",
   "execution_count": null,
   "metadata": {},
   "outputs": [],
   "source": [
    "print(vuelos_por_dia_semana.index)\n"
   ]
  },
  {
   "cell_type": "code",
   "execution_count": null,
   "metadata": {},
   "outputs": [],
   "source": [
    "print(vuelos_por_dia_semana.values)"
   ]
  },
  {
   "cell_type": "code",
   "execution_count": null,
   "metadata": {},
   "outputs": [],
   "source": [
    "from matplotlib.ticker import FuncFormatter\n",
    "\n",
    "# Función para formatear los valores en el eje Y sin notación científica ###TUVE QUE BUSCAR ESTO EN LA WEB PORQUE LA CANTIDAD DE VUELOS ME SALIA EN NOTACION CIENTIFICA###\n",
    "def formatear_millones(x, pos):\n",
    "    return f'{int(x):,}'  # Esto agrega comas como separadores de miles\n",
    "\n",
    "\n",
    "plt.figure(figsize=(7, 3))\n",
    "plt.bar(vuelos_por_dia_semana.index, vuelos_por_dia_semana.values)\n",
    "plt.title('Cantidad de vuelos por día de semana', fontsize=16)\n",
    "plt.xlabel('Día', fontsize=14)\n",
    "plt.ylabel('Cantidad de vuelos', fontsize=14)\n",
    "etiquetas = ['Lunes', 'Martes', 'Miércoles', 'Jueves', 'Viernes', 'Sábado', 'Domingo']\n",
    "plt.xticks(ticks=vuelos_por_dia_semana.index, labels=etiquetas, fontsize=12)\n",
    "plt.grid(axis='y', linestyle='-')\n",
    "\n",
    "# Configurar el formato del eje Y para evitar la notación científica (###)\n",
    "plt.gca().yaxis.set_major_formatter(FuncFormatter(formatear_millones))\n"
   ]
  },
  {
   "cell_type": "markdown",
   "metadata": {
    "id": "VO7g4d7gM3BL"
   },
   "source": [
    "Se observa que el día 6, sábado, se produce la menor cantidad de vuelos"
   ]
  },
  {
   "cell_type": "code",
   "execution_count": null,
   "metadata": {},
   "outputs": [],
   "source": [
    "#Este es el ejemplo anterior donde me daba notación cientifica\n",
    "plt.figure(figsize=(5, 3))\n",
    "plt.bar(vuelos_por_dia_semana.index, vuelos_por_dia_semana.values)\n",
    "plt.title('Cantidad de vuelos por día de semana', fontsize=16)\n",
    "plt.xlabel('Día', fontsize=14)\n",
    "plt.ylabel('Cantidad de vuelos', fontsize=14)\n",
    "plt.xticks(ticks=vuelos_por_dia_semana.index, labels=vuelos_por_dia_semana.index, fontsize=12)\n",
    "plt.grid(axis='y')"
   ]
  },
  {
   "cell_type": "markdown",
   "metadata": {
    "id": "DjEjn8IOiGVD"
   },
   "source": [
    "### Análisis de la VARIABLE TARGET: estado de demora (DEP_DEL15)"
   ]
  },
  {
   "cell_type": "markdown",
   "metadata": {
    "id": "tCMMMpZhicY4"
   },
   "source": [
    "Se explora la distribución de vuelos a tiempo y con demora para entender el balance de clases. Esta variable será el objetivo (target) del modelo de predicción."
   ]
  },
  {
   "cell_type": "code",
   "execution_count": null,
   "metadata": {},
   "outputs": [],
   "source": [
    "vuelos_demoras = df_vuelos.groupby('DEP_DEL15').size()\n",
    "vuelos_demoras"
   ]
  },
  {
   "cell_type": "markdown",
   "metadata": {
    "id": "LxHtsaXYiunl"
   },
   "source": [
    "0: vuelos no demorados\n",
    "\n",
    "1: vuelos demorados"
   ]
  },
  {
   "cell_type": "code",
   "execution_count": null,
   "metadata": {},
   "outputs": [],
   "source": [
    "vuelos_con_demora = df_vuelos['DEP_DEL15'].value_counts()\n",
    "etiquetas = ['A Tiempo', 'Con Demora']\n",
    "plt.figure(figsize=(3, 3))\n",
    "plt.pie(\n",
    "    vuelos_con_demora,\n",
    "    labels=etiquetas,\n",
    "    autopct='%1.1f%%',\n",
    "    startangle=90)\n",
    "plt.title('Distribución de vuelos por estado de demora', fontsize=16)"
   ]
  },
  {
   "cell_type": "markdown",
   "metadata": {
    "id": "6P_Q-B_bjRJB"
   },
   "source": [
    "La variable target `DEP_DEL15` presenta un **desbalance de clases**:  \n",
    "- El **81,1 %** de los vuelos llegaron a tiempo.  \n",
    "- Solo el **18,9 %** presentaron demoras.\n",
    "\n",
    "Este desbalance es importante tenerlo en cuenta, ya que podría afectar el rendimiento del modelo predictivo, especialmente si no se aplican técnicas adecuadas de balanceo o métricas ajustadas para clasificación desbalanceada."
   ]
  },
  {
   "cell_type": "markdown",
   "metadata": {
    "id": "Wq2agq-gjrDj"
   },
   "source": [
    "### Análisis de demoras por aeropuerto de origen"
   ]
  },
  {
   "cell_type": "code",
   "execution_count": null,
   "metadata": {},
   "outputs": [],
   "source": [
    "# Porcentaje de vuelos retrasados por aeropuerto de salida\n",
    "delays_by_departure = df_vuelos.groupby('DEPARTING_AIRPORT')['DEP_DEL15'].mean().reset_index()\n",
    "delays_by_departure.columns = ['DEPARTING_AIRPORT', 'PCT_DELAYED']\n",
    "\n",
    "# Ordena por mayor proporción de demoras\n",
    "delays_by_departure = delays_by_departure.sort_values(by='PCT_DELAYED', ascending=False)"
   ]
  },
  {
   "cell_type": "code",
   "execution_count": null,
   "metadata": {},
   "outputs": [],
   "source": [
    "import matplotlib.pyplot as plt\n",
    "import seaborn as sns\n",
    "\n",
    "# Configuración del estilo del gráfico\n",
    "plt.figure(figsize=(12, 6))\n",
    "sns.barplot(\n",
    "    data=delays_by_departure.head(10),  # Muestra los 10 aeropuertos con mayor retraso\n",
    "    x='PCT_DELAYED',\n",
    "    y='DEPARTING_AIRPORT',\n",
    "    palette='viridis'\n",
    ")\n",
    "\n",
    "# Títulos y etiquetas\n",
    "plt.title('Top 10 Aeropuertos con Mayor Proporción de Demoras', fontsize=16)\n",
    "plt.xlabel('Porcentaje de Vuelos Retrasados', fontsize=12)\n",
    "plt.ylabel('Aeropuerto de Salida', fontsize=12)\n",
    "plt.xticks(fontsize=10)\n",
    "plt.yticks(fontsize=10)\n",
    "\n",
    "# Mostrar el gráfico\n",
    "plt.tight_layout()\n",
    "plt.show()"
   ]
  },
  {
   "cell_type": "markdown",
   "metadata": {
    "id": "_PmTxXMJ_Bdx"
   },
   "source": [
    "-Puerto Rico International encabeza la lista, con la mayor proporción de vuelos retrasados entre los aeropuertos listados.\n",
    "\n",
    "-Chicago Midway International y Newark Liberty International también tienen proporciones de demoras significativas, ocupando el segundo y tercer lugar respectivamente.\n",
    "\n",
    "-William P Hobby y Dallas Love Field muestran altos porcentajes de retrasos, situándose en el cuarto y quinto lugar.\n",
    "\n",
    "-LaGuardia está en el sexto lugar, seguido por Myrtle Beach International, Fort Lauderdale-Hollywood International, y Chicago O'Hare International.\n",
    "\n",
    "-Stapleton International es el aeropuerto con la menor proporción de vuelos retrasados entre los diez mencionados."
   ]
  },
  {
   "cell_type": "markdown",
   "metadata": {
    "id": "77HNIGMLkC8X"
   },
   "source": []
  },
  {
   "cell_type": "markdown",
   "metadata": {
    "id": "3QrluHR1khpy"
   },
   "source": [
    "### Precipitación promedio por aeropuerto de salida durante junio (mes con mayores precipitaciones)"
   ]
  },
  {
   "cell_type": "markdown",
   "metadata": {
    "id": "QZDujC-ik5l_"
   },
   "source": [
    "### Total de precipitaciones por aeropuerto de orígen en junio"
   ]
  },
  {
   "cell_type": "code",
   "execution_count": null,
   "metadata": {},
   "outputs": [],
   "source": [
    "# Aeeropuerto de salida y precipitación promedio en junio (mes con mayores precipitaciones)\n",
    "precipitaciones_aeropuerto = df_vuelos.groupby('DEPARTING_AIRPORT')['PRCP'].mean().reset_index()\n",
    "\n",
    "# Ordenar por precipitación promedio\n",
    "precipitaciones_aeropuerto = precipitaciones_aeropuerto.sort_values(by='PRCP', ascending=False)\n",
    "\n",
    "# Graficar\n",
    "plt.figure(figsize=(12, 6))\n",
    "plt.bar(precipitaciones_aeropuerto['DEPARTING_AIRPORT'], precipitaciones_aeropuerto['PRCP'], color='skyblue')\n",
    "plt.xticks(rotation=90)\n",
    "plt.xlabel('Aeropuerto de salida')\n",
    "plt.ylabel('Precipitación promedio (PRCP)')\n",
    "plt.title('Precipitación promedio por aeropuerto de salida (junio)')\n",
    "plt.tight_layout()\n",
    "plt.show()"
   ]
  },
  {
   "cell_type": "markdown",
   "metadata": {
    "id": "PeQcc9ykATCX"
   },
   "source": [
    "-Minneapolis-St. Paul International Airport (Ubicado en el norte de los Estados Unidos, donde los veranos son generalmente húmedos con frecuentes lluvias.) tiene la mayor precipitación promedio en junio, con aproximadamente 0.25 pulgadas. Esto sugiere que este aeropuerto experimenta condiciones climáticas húmedas durante el mes de junio, lo cual puede afectar las operaciones de vuelo.\n",
    "\n",
    "-Los Angeles International Airport (Situado en el oeste de los Estados Unidos, conocido por su clima mediterráneo, aunque junio puede traer nieblas costeras y algunas precipitaciones.), Denver International (En la región centro-oeste de los Estados Unidos, con un clima semiárido, pero junio puede tener lluvias debido a las tormentas de verano.) Airport y Washington Dulles International Airport (Ubicado en la costa este de los Estados Unidos, una región que experimenta lluvias y tormentas en junio.) tienen niveles de precipitación promedio similares, en torno a 0.15 pulgadas. Estos aeropuertos también deben considerar las condiciones meteorológicas al planificar sus operaciones en junio.\n",
    "\n",
    "-Newark Liberty International Airport (También en la costa este de los Estados Unidos, con veranos húmedos y lluviosos.) y LaGuardia Airport (En la costa este de los Estados Unidos, caracterizada por su clima húmedo continental con lluvias en junio.) muestran niveles de precipitación promedio ligeramente inferiores, alrededor de 0.10 pulgadas. Aunque menor que en los aeropuertos anteriores, la precipitación aún puede influir en las demoras y cancelaciones.\n",
    "\n",
    "-Miami International Airport (Ubicado en el sureste de los Estados Unidos, conocido por su clima tropical y temporada de lluvias que comienza en junio.) y Dallas/Fort Worth International Airport (En la región sur-central de los Estados Unidos, con un clima subtropical húmedo y precipitaciones en junio.)tienen precipitación promedio de aproximadamente 0.08 pulgadas. Esto indica condiciones meteorológicas relativamente secas en comparación con otros aeropuertos del gráfico.\n",
    "\n",
    "-Chicago O'Hare International Airport (Situado en el medio oeste de los Estados Unidos, con un clima continental húmedo y lluvias en verano.) y San Francisco International Airport (En la costa oeste de los Estados Unidos, con un clima mediterráneo, aunque junio puede traer neblinas y algo de lluvia.) presentan niveles de precipitación de aproximadamente 0.06 pulgadas, sugiriendo que experimentan menos lluvias en junio.\n",
    "\n",
    "-Puerto Rico International Airport (En la región del Caribe, conocida por su clima tropical y una temporada relativamente seca en junio.)tiene la menor precipitación promedio, con cerca de 0.02 pulgadas. Esto indica que junio es un mes relativamente seco para este aeropuerto.\n",
    "\n",
    "En resumen, la precipitación varía significativamente entre los aeropuertos analizados en el gráfico. Los aeropuertos con mayor precipitación promedio, como Minneapolis-St. Paul International Airport, deben estar particularmente atentos a las condiciones meteorológicas adversas en junio, mientras que aquellos con menor precipitación, como Puerto Rico International Airport, pueden esperar menos interferencias climáticas."
   ]
  },
  {
   "cell_type": "markdown",
   "metadata": {
    "id": "0ojPEDApm8ru"
   },
   "source": [
    "### Análisis de precipitación por aeropuerto de orígen y lluvia acumulada"
   ]
  },
  {
   "cell_type": "code",
   "execution_count": null,
   "metadata": {},
   "outputs": [],
   "source": [
    "# Agrupar por aeropuerto de salida y calcular la lluvia acumulada\n",
    "lluvia_acumulada = df_vuelos.groupby('DEPARTING_AIRPORT')['PRCP'].sum().reset_index()\n",
    "\n",
    "# Ordenar por lluvia acumulada\n",
    "lluvia_acumulada = lluvia_acumulada.sort_values(by='PRCP', ascending=False)\n",
    "\n",
    "# Graficar\n",
    "plt.figure(figsize=(12, 6))\n",
    "plt.bar(lluvia_acumulada['DEPARTING_AIRPORT'], lluvia_acumulada['PRCP'], color='royalblue')\n",
    "plt.xticks(rotation=90)\n",
    "plt.xlabel('Aeropuerto de salida')\n",
    "plt.ylabel('Lluvia acumulada (PRCP)')\n",
    "plt.title('Lluvia acumulada por aeropuerto de salida (junio)')\n",
    "plt.tight_layout()\n",
    "plt.show()"
   ]
  },
  {
   "cell_type": "markdown",
   "metadata": {
    "id": "hFAx24ogCcc-"
   },
   "source": [
    "-Minneapolis-St. Paul International Airport (Minneapolis, Minnesota) muestra la mayor cantidad de lluvia acumulada en junio, con aproximadamente 0.25 pulgadas. Esto sugiere que esta región en el norte de los Estados Unidos experimenta condiciones climáticas húmedas durante este mes.\n",
    "\n",
    "-Los Angeles International Airport (Los Ángeles, California), Denver International Airport (Denver, Colorado) y Washington Dulles International Airport (Washington, D.C.) tienen niveles de precipitación promedio similares, en torno a 0.15 pulgadas. Esto indica que, aunque estas áreas en el oeste y el este de los EE. UU. suelen ser menos húmedas, junio trae una cantidad moderada de precipitaciones.\n",
    "\n",
    "-Newark Liberty International Airport (Newark, Nueva Jersey) y LaGuardia Airport (Nueva York, Nueva York) muestran niveles de precipitación promedio ligeramente inferiores, alrededor de 0.10 pulgadas. Esto se corresponde con el clima húmedo continental de la costa este de los EE. UU., que trae lluvias frecuentes en verano.\n",
    "\n",
    "-Miami International Airport (Miami, Florida) y Dallas/Fort Worth International Airport (Dallas, Texas) tienen precipitación promedio de aproximadamente 0.08 pulgadas. La región sureste de los EE. UU. es conocida por sus lluvias de verano, mientras que Dallas tiene un clima subtropical húmedo.\n",
    "\n",
    "-Chicago O'Hare International Airport (Chicago, Illinois) y San Francisco International Airport (San Francisco, California) presentan niveles de precipitación de aproximadamente 0.06 pulgadas. Chicago en el medio oeste tiene veranos húmedos, mientras que San Francisco en la costa oeste experimenta nieblas costeras y precipitaciones ligeras.\n",
    "\n",
    "-Puerto Rico International Airport (San Juan, Puerto Rico) tiene la menor precipitación promedio, con cerca de 0.02 pulgadas. Esto indica que junio es un mes relativamente seco para esta región caribeña, a pesar de su clima tropical.\n",
    "\n",
    "-Hartsfield-Jackson Atlanta International Airport (Atlanta, Georgia) muestra un nivel de precipitación promedio de aproximadamente 0.09 pulgadas en junio. Esto sugiere que Atlanta, ubicada en la región sureste de los EE. UU., experimenta veranos cálidos y húmedos con lluvias frecuentes durante este mes.\n",
    "\n",
    "Relación entre Precipitación y Zonas Geográficas\n",
    "\n",
    "-Los aeropuertos en el noreste y costa este de los EE. UU. (por ejemplo, Newark, LaGuardia) tienden a experimentar lluvias moderadas en junio debido a su clima húmedo continental.\n",
    "\n",
    "-En el medio oeste (Minneapolis y Chicago), el verano trae lluvias frecuentes, como se observa en Minneapolis-St. Paul, que tiene la mayor precipitación acumulada.\n",
    "\n",
    "-La costa oeste (Los Ángeles y San Francisco) generalmente tiene veranos secos, aunque Los Ángeles puede tener nieblas costeras y San Francisco algo de lluvia en junio.\n",
    "\n",
    "-El sur y sureste (Miami, Dallas y Atlanta) experimenta un clima subtropical y tropical respectivamente, con lluvias significativas en junio, siendo Miami particularmente húmedo y Atlanta con condiciones cálidas y lluviosas.\n",
    "\n",
    "-Denver, en la región centro-oeste, aunque tiene un clima semiárido, también puede experimentar tormentas de verano.\n",
    "\n",
    "-Puerto Rico, a pesar de su clima tropical, muestra que junio es un mes relativamente seco.-"
   ]
  },
  {
   "cell_type": "markdown",
   "metadata": {
    "id": "TFFeO_83XrYp"
   },
   "source": [
    "## HIPOTESIS"
   ]
  },
  {
   "cell_type": "markdown",
   "metadata": {
    "id": "V2dWAAuThY9A"
   },
   "source": [
    "## 1-Los viernes tienen una mayor incidencia de retrasos debido al mayor volumen de tráfico aéreo.\n"
   ]
  },
  {
   "cell_type": "code",
   "execution_count": null,
   "metadata": {},
   "outputs": [],
   "source": [
    "# Cantidad de partidas demoradas por dia de semana\n",
    "vuelos_demorados_por_dia = df_vuelos[df_vuelos['DEP_DEL15'] == 1].groupby('DAY_OF_WEEK').size()\n",
    "vuelos_demorados_por_dia"
   ]
  },
  {
   "cell_type": "code",
   "execution_count": null,
   "metadata": {},
   "outputs": [],
   "source": [
    "vuelos_demorados_dia_semana = vuelos_demorados_por_dia .sum()\n",
    "vuelos_demorados_dia_semana"
   ]
  },
  {
   "cell_type": "code",
   "execution_count": null,
   "metadata": {},
   "outputs": [],
   "source": [
    "plt.figure(figsize=(7, 4))\n",
    "sns.barplot(\n",
    "    x=vuelos_demorados_por_dia.index,\n",
    "    y=vuelos_demorados_por_dia.values,\n",
    "    palette=\"Blues_d\"\n",
    ")\n",
    "plt.title('Cantidad de vuelos demorados por día de la semana en 2019', fontsize=16)\n",
    "plt.xlabel('Día de la Semana (1=Lunes, 7=Domingo)', fontsize=12)\n",
    "plt.ylabel('Cantidad de Vuelos', fontsize=14)\n",
    "plt.xticks(ticks=range(7), labels=['Lunes', 'Martes', 'Miércoles', 'Jueves', 'Viernes', 'Sábado', 'Domingo'], fontsize=12)\n",
    "plt.grid(axis='y', linestyle='--')"
   ]
  },
  {
   "cell_type": "markdown",
   "metadata": {
    "id": "OT0ihI0naDz7"
   },
   "source": [
    "se observa que la cantidad de partidas con demora se producen los dias jueves"
   ]
  },
  {
   "cell_type": "code",
   "execution_count": null,
   "metadata": {},
   "outputs": [],
   "source": [
    "# Cantidad de partidas demoradas por mes\n",
    "vuelos_demorados_por_mes = df_vuelos[df_vuelos['DEP_DEL15'] == 1].groupby('MONTH').size()\n",
    "vuelos_demorados_por_mes"
   ]
  },
  {
   "cell_type": "code",
   "execution_count": null,
   "metadata": {},
   "outputs": [],
   "source": [
    "df_combined = pd.DataFrame({\n",
    "    'Vuelos Totales': vuelos_por_mes,\n",
    "    'Vuelos Demorados': vuelos_demorados_por_mes\n",
    "})\n",
    "index = df_combined.index\n",
    "bar_width = 0.35\n",
    "plt.figure(figsize=(15, 3))\n",
    "plt.bar(index, df_combined['Vuelos Totales'], bar_width, label='Vuelos Totales', color='lightblue')\n",
    "plt.bar(index + bar_width, df_combined['Vuelos Demorados'], bar_width, label='Vuelos Demorados', color='salmon')\n",
    "plt.title('Cantidad de vuelos y vuelos demorados por mes', fontsize=16)\n",
    "plt.xlabel('Mes', fontsize=14)\n",
    "plt.ylabel('Cantidad de vuelos', fontsize=14)\n",
    "plt.xticks(index + bar_width / 2, df_combined.index, fontsize=12)\n",
    "plt.legend()\n",
    "plt.grid(axis='y', linestyle='--')"
   ]
  },
  {
   "cell_type": "markdown",
   "metadata": {
    "id": "jr-wjrSVPO-5"
   },
   "source": [
    "Se observa que las demoras no necesariamente se relacionan con la cantidad total de vuelos"
   ]
  },
  {
   "cell_type": "markdown",
   "metadata": {
    "id": "SwvTX2bChlxg"
   },
   "source": [
    "## 2- Los vuelos en meses de vacaciones (como julio y diciembre) tienen más pasajeros, lo que podría influir en los tiempos de operación y generar retrasos."
   ]
  },
  {
   "cell_type": "code",
   "execution_count": null,
   "metadata": {},
   "outputs": [],
   "source": [
    "# Cantidad de partidas demoradas y promedio de pasajeros en aeropuerto\n",
    "pasajeros_aeropuerto_por_mes = df_vuelos.groupby('MONTH')['AVG_MONTHLY_PASS_AIRPORT'].first()\n",
    "print(pasajeros_aeropuerto_por_mes)"
   ]
  },
  {
   "cell_type": "code",
   "execution_count": null,
   "metadata": {},
   "outputs": [],
   "source": [
    "fig, ax1 = plt.subplots(figsize=(12, 4))\n",
    "\n",
    "color_pasajeros = 'skyblue'\n",
    "\n",
    "bars = ax1.bar(pasajeros_aeropuerto_por_mes.index, pasajeros_aeropuerto_por_mes.values, color=color_pasajeros, alpha=0.6, label='Promedio de Pasajeros')\n",
    "ax1.set_xlabel('Mes', fontsize=14)\n",
    "ax1.set_ylabel('Promedio de Pasajeros', color=color_pasajeros, fontsize=14)\n",
    "ax1.tick_params(axis='y', labelcolor=color_pasajeros)\n",
    "for bar in bars:\n",
    "    yval = bar.get_height()\n",
    "    ax1.text(bar.get_x() + bar.get_width() / 2, yval + 5000,\n",
    "             f'{int(yval):,}', ha='center', fontsize=10)\n",
    "\n",
    "\n",
    "ax2 = ax1.twinx()\n",
    "color_demoras = 'tab:red'\n",
    "ax2.plot(pasajeros_aeropuerto_por_mes.index, vuelos_demorados_por_mes.values, color=color_demoras, marker='o', label='Vuelos Demorados', linewidth=2)\n",
    "ax2.set_ylabel('Cantidad de Vuelos Demorados', color=color_demoras, fontsize=14)\n",
    "ax2.tick_params(axis='y', labelcolor=color_demoras)\n",
    "\n",
    "nombres_meses = ['Enero', 'Febrero', 'Marzo', 'Abril', 'Mayo', 'Junio', 'Julio', 'Agosto', 'Septiembre', 'Octubre', 'Noviembre', 'Diciembre']\n",
    "ax1.set_xticks(pasajeros_aeropuerto_por_mes.index)\n",
    "ax1.set_xticklabels(nombres_meses, rotation=45, fontsize=12)\n",
    "\n",
    "plt.tight_layout()\n",
    "\n",
    "plt.show()"
   ]
  },
  {
   "cell_type": "markdown",
   "metadata": {
    "id": "fzyZlWu9UR4-"
   },
   "source": [
    "Se observa que las demoras no se relacionan directamente con la cantidad mensual promedio de pasajeros en los aeropuertos"
   ]
  },
  {
   "cell_type": "code",
   "execution_count": null,
   "metadata": {},
   "outputs": [],
   "source": [
    "# Cantidad de pasajeros por aeropuerto (CARRIER_NAME)\n",
    "pasajeros_por_aeropuerto = df_vuelos.groupby('CARRIER_NAME')['AVG_MONTHLY_PASS_AIRPORT'].sum()\n",
    "pasajeros_por_aeropuerto = pasajeros_por_aeropuerto.sort_values(ascending=False)\n",
    "print(pasajeros_por_aeropuerto)\n"
   ]
  },
  {
   "cell_type": "code",
   "execution_count": null,
   "metadata": {},
   "outputs": [],
   "source": [
    "# Demoras por aeropuerto\n",
    "demoras_por_aeropuerto = df_vuelos.groupby('DEPARTING_AIRPORT')['DEP_DEL15'].sum()\n",
    "\n",
    "# DataFrame combinado\n",
    "df_demoras_aeropuerto_pasajeros = pd.DataFrame({'Demoras': demoras_por_aeropuerto, 'Pasajeros': pasajeros_por_aeropuerto})\n",
    "\n",
    "plt.figure(figsize=(12, 6))\n",
    "sns.set(style=\"whitegrid\")\n",
    "\n",
    "ax = sns.barplot(x=df_demoras_aeropuerto_pasajeros.index, y=\"Demoras\", data=df_demoras_aeropuerto_pasajeros, color=\"b\", label=\"Demoras\")\n",
    "ax2 = ax.twinx()\n",
    "ax2 = sns.lineplot(x=df_demoras_aeropuerto_pasajeros.index, y=\"Pasajeros\", data=df_demoras_aeropuerto_pasajeros, color=\"r\", label=\"Pasajeros\")\n",
    "\n",
    "ax.set_xticklabels(ax.get_xticklabels(), rotation=45, horizontalalignment='right')\n",
    "ax.set_xlabel('Aeropuerto')\n",
    "ax.set_ylabel('Cantidad de Demoras')\n",
    "ax2.set_ylabel('Cantidad de Pasajeros')\n",
    "plt.title('Cantidad de Demoras y Pasajeros por Aeropuerto')\n",
    "ax.legend(loc='upper left')\n",
    "ax2.legend(loc='upper right')\n",
    "\n",
    "plt.show()\n"
   ]
  },
  {
   "cell_type": "markdown",
   "metadata": {
    "id": "eYb7aB-pHuIV"
   },
   "source": [
    "A primera vista, se puede notar que varios aeropuertos con menor concurrencia de pasajeros (línea roja) parecen tener una mayor cantidad de demoras (barras azules). Esto podría sugerir que aeropuertos con menor volumen de pasajeros enfrentan desafíos operativos que resultan en mayores demoras."
   ]
  },
  {
   "cell_type": "code",
   "execution_count": null,
   "metadata": {},
   "outputs": [],
   "source": [
    "# Cantidad de vuelos mensuales por aeropuerto\n",
    "vuelos_por_aeropuerto = df_vuelos.groupby('DEPARTING_AIRPORT')['AIRPORT_FLIGHTS_MONTH'].sum()\n",
    "\n",
    "#DataFrame combinado\n",
    "df_cantidad_vuelos_aeropuerto = pd.DataFrame({'Demoras': demoras_por_aeropuerto, 'Vuelos Mensuales': vuelos_por_aeropuerto})\n",
    "\n",
    "plt.figure(figsize=(12, 6))\n",
    "sns.set(style=\"whitegrid\")\n",
    "\n",
    "ax = sns.barplot(x=df_cantidad_vuelos_aeropuerto.index, y=\"Demoras\", data=df_cantidad_vuelos_aeropuerto, color=\"b\", label=\"Demoras\")\n",
    "ax2 = ax.twinx()\n",
    "ax2 = sns.lineplot(x=df_cantidad_vuelos_aeropuerto.index, y=\"Vuelos Mensuales\", data=df_cantidad_vuelos_aeropuerto, color=\"r\", label=\"Vuelos Mensuales\")\n",
    "\n",
    "ax.set_xticklabels(ax.get_xticklabels(), rotation=45, horizontalalignment='right')\n",
    "ax.set_xlabel('Aeropuerto')\n",
    "ax.set_ylabel('Cantidad de Demoras')\n",
    "ax2.set_ylabel('Vuelos Mensuales')\n",
    "plt.title('Cantidad de Demoras y Vuelos Mensuales por Aeropuerto')\n",
    "ax.legend(loc='upper left')\n",
    "ax2.legend(loc='upper right')\n",
    "\n",
    "plt.show()\n"
   ]
  },
  {
   "cell_type": "markdown",
   "metadata": {
    "id": "L-U6VhdQLZlj"
   },
   "source": [
    "Relación Positiva: En muchos aeropuertos, a medida que aumenta la cantidad de vuelos mensuales (línea roja), también aumenta la cantidad de demoras (barras azules). Esto sugiere que los aeropuertos con mayor tráfico aéreo tienden a tener más demoras, posiblemente debido a la congestión y la complejidad operativa que conlleva manejar un mayor número de vuelos.\n",
    "\n",
    "Variabilidad entre Aeropuertos: La relación no es uniforme en todos los aeropuertos. Algunos aeropuertos con un número relativamente alto de vuelos mensuales tienen un número comparativamente menor de demoras, lo que podría indicar una mejor eficiencia operativa o capacidad de manejo del tráfico aéreo.\n",
    "\n",
    "Eficiencia Operativa: Los aeropuertos con menos demoras en proporción a su tráfico aéreo podrían estar implementando prácticas operativas más eficientes o tener mejores infraestructuras que facilitan el flujo de vuelos sin interrupciones significativas.\n",
    "\n",
    "Capacidad y Recursos: Es posible que los aeropuertos con menos vuelos mensuales enfrenten mayores dificultades operativas debido a una infraestructura y recursos más limitados, lo que puede resultar en más demoras.\n",
    "\n",
    "Conclusión General\n",
    "La observación principal es que existe una tendencia general donde los aeropuertos con mayor cantidad de vuelos mensuales tienden a experimentar más demoras. Sin embargo, la eficiencia y la capacidad operativa de cada aeropuerto juegan un papel crucial en la gestión de estas demoras. Aeropuertos con infraestructura y prácticas eficientes pueden manejar un mayor tráfico con menos interrupciones, mientras que aquellos con menos recursos pueden enfrentar más dificultades."
   ]
  },
  {
   "cell_type": "code",
   "execution_count": null,
   "metadata": {},
   "outputs": [],
   "source": [
    "# Filtrar los datos para el mes de junio (mes 6)\n",
    "df_june = df_vuelos[df_vuelos['MONTH'] == 6]\n",
    "\n",
    "# Cantidad de demoras por aeropuerto en junio y ordenar de mayor a menor\n",
    "demoras_june_por_aeropuerto = df_june.groupby('DEPARTING_AIRPORT')['DEP_DEL15'].sum().sort_values(ascending=False)\n",
    "\n",
    "print(demoras_june_por_aeropuerto)\n",
    "\n",
    "plt.figure(figsize=(12, 6))\n",
    "sns.barplot(x=demoras_june_por_aeropuerto.index, y=demoras_june_por_aeropuerto.values, color=\"b\")\n",
    "\n",
    "plt.xticks(rotation=45, horizontalalignment='right')\n",
    "plt.xlabel('Aeropuerto')\n",
    "plt.ylabel('Cantidad de Demoras')\n",
    "plt.title('Cantidad de Demoras por Aeropuerto en Junio (Ordenado de Mayor a Menor)')\n",
    "plt.show()\n"
   ]
  },
  {
   "cell_type": "markdown",
   "metadata": {
    "id": "lIumbu2fNE4P"
   },
   "source": [
    "1. Chicago O'Hare International (ORD): Este aeropuerto encabeza la lista con la mayor cantidad de demoras. Este resultado puede atribuirse a su alta congestión de tráfico aéreo, ya que es uno de los aeropuertos más transitados del mundo.\n",
    "\n",
    "2. Dallas/Fort Worth International (DFW): Ocupa el segundo lugar en cantidad de demoras. La gran cantidad de vuelos operados aquí, junto con las condiciones climáticas variables, puede contribuir a las demoras significativas.\n",
    "\n",
    "3. Denver International (DEN): También muestra un alto número de demoras. La ubicación de Denver, que puede estar sujeta a condiciones climáticas adversas como tormentas de verano, podría ser un factor importante.\n",
    "\n",
    "4. Otros Aeropuertos Significativos: Aeropuertos como Atlanta (ATL) y Los Ángeles (LAX) también presentan un número considerable de demoras, aunque no tan alto como los tres primeros."
   ]
  },
  {
   "cell_type": "code",
   "execution_count": null,
   "metadata": {},
   "outputs": [],
   "source": [
    "# Cantidad de vuelos mensuales por aeropuerto en junio\n",
    "vuelos_june_por_aeropuerto = df_june.groupby('DEPARTING_AIRPORT')['AIRPORT_FLIGHTS_MONTH'].sum()\n",
    "\n",
    "# Precipitación por aeropuerto en junio\n",
    "precipitacion_june_por_aeropuerto = df_june.groupby('DEPARTING_AIRPORT')['PRCP'].sum()\n",
    "\n",
    "# DataFrame combinado\n",
    "df_junio_vuelos_aeropuerto = pd.DataFrame({\n",
    "    'Demoras': demoras_june_por_aeropuerto,\n",
    "    'Vuelos Mensuales': vuelos_june_por_aeropuerto,\n",
    "    'Precipitación': precipitacion_june_por_aeropuerto\n",
    "}).sort_values(by='Demoras', ascending=False)\n",
    "\n",
    "plt.figure(figsize=(15, 8))\n",
    "sns.set(style=\"whitegrid\")\n",
    "\n",
    "ax = sns.barplot(x=df_junio_vuelos_aeropuerto.index, y=\"Demoras\", data=df_junio_vuelos_aeropuerto, color=\"b\", label=\"Demoras\")\n",
    "ax2 = ax.twinx()\n",
    "\n",
    "ax2 = sns.lineplot(x=df_junio_vuelos_aeropuerto.index, y=\"Vuelos Mensuales\", data=df_junio_vuelos_aeropuerto, color=\"r\", label=\"Vuelos Mensuales\", marker=\"o\")\n",
    "\n",
    "ax3 = ax.twinx()\n",
    "ax3.spines['right'].set_position(('outward', 60))\n",
    "ax3 = sns.lineplot(x=df_junio_vuelos_aeropuerto.index, y=\"Precipitación\", data=df_junio_vuelos_aeropuerto, color=\"g\", label=\"Precipitación\", marker=\"x\")\n",
    "\n",
    "ax.set_xticklabels(ax.get_xticklabels(), rotation=45, horizontalalignment='right')\n",
    "ax.set_xlabel('Aeropuerto')\n",
    "ax.set_ylabel('Cantidad de Demoras')\n",
    "ax2.set_ylabel('Vuelos Mensuales')\n",
    "ax3.set_ylabel('Precipitación (pulgadas)')\n",
    "plt.title('Cantidad de Demoras, Vuelos Mensuales y Precipitación por Aeropuerto en Junio')\n",
    "ax.legend(loc='upper left')\n",
    "ax2.legend(loc='upper right')\n",
    "ax3.legend(loc='upper center')\n",
    "\n",
    "plt.show()"
   ]
  },
  {
   "cell_type": "markdown",
   "metadata": {
    "id": "EI3iOPYLNyqW"
   },
   "source": [
    "Chicago O'Hare International (ORD) y Dallas/Fort Worth International (DFW) presentan la mayor cantidad de demoras, lo cual está en línea con su gran volumen de vuelos mensuales. Ambos aeropuertos son grandes centros de conexión, lo que puede contribuir a la congestión y, en consecuencia, a las demoras.\n",
    "\n",
    "Denver International (DEN) y Atlanta Hartsfield-Jackson (ATL) también muestran un alto número de demoras y una alta cantidad de vuelos mensuales. Esto sugiere que la congestión del tráfico aéreo y la alta demanda son factores importantes en estos aeropuertos.\n",
    "\n",
    "Precipitación: A pesar de que algunos aeropuertos tienen altos niveles de precipitación (por ejemplo, Denver International (DEN)), no parece haber una correlación directa y consistente entre la precipitación y la cantidad de demoras. Esto indica que, aunque el clima adverso pueda contribuir a las demoras, no es el único factor determinante.\n",
    "\n",
    "Relación entre Vuelos Mensuales y Demoras: Existe una tendencia general donde aeropuertos con mayor número de vuelos mensuales tienden a tener más demoras. Esto es especialmente evidente en aeropuertos como ORD, DFW y ATL.\n",
    "\n",
    "Variabilidad entre Aeropuertos: Algunos aeropuertos con alta precipitación no muestran necesariamente más demoras que otros con menos precipitación, lo que sugiere que la gestión operativa y la infraestructura del aeropuerto también juegan un papel crucial."
   ]
  },
  {
   "cell_type": "markdown",
   "metadata": {
    "id": "8cD4i5ZfN7-C"
   },
   "source": [
    "Factores Críticos en las Demoras:\n",
    "\n",
    "Congestión del Tráfico Aéreo: Los aeropuertos con altos volúmenes de vuelos tienden a experimentar más demoras, probablemente debido a la congestión y la complejidad operativa.\n",
    "\n",
    "Precipitación y Condiciones Climáticas: Si bien el clima puede influir, no es el único factor. Aeropuertos como DEN muestran que, a pesar de la alta precipitación, la gestión eficiente puede mitigar algunas de las demoras.\n",
    "\n",
    "Eficiencia Operativa: La infraestructura y la capacidad de manejo del tráfico aéreo en cada aeropuerto son determinantes para la cantidad de demoras. Aeropuertos mejor gestionados pueden tener menos demoras incluso con un alto número de vuelos y condiciones climáticas desafiantes.\n",
    "\n",
    "En resumen, la cantidad de vuelos mensuales y la eficiencia operativa del aeropuerto son factores clave en la cantidad de demoras, mientras que la precipitación también juega un papel, aunque no es el único factor determinante."
   ]
  },
  {
   "cell_type": "markdown",
   "metadata": {
    "id": "Y9kWNYUTh-9B"
   },
   "source": [
    "## 3-Las condiciones climáticas son determinantes para determinar demoras, sobre todo las lluvias."
   ]
  },
  {
   "cell_type": "markdown",
   "metadata": {
    "id": "GSjstoeUjJqu"
   },
   "source": [
    "### Precipitaciones y demoras"
   ]
  },
  {
   "cell_type": "code",
   "execution_count": null,
   "metadata": {},
   "outputs": [],
   "source": [
    "# Suma de precipitaciones diarias por cada mes\n",
    "precipitaciones_por_mes = df_vuelos.groupby('MONTH')['PRCP'].sum()\n",
    "print(precipitaciones_por_mes)"
   ]
  },
  {
   "cell_type": "code",
   "execution_count": null,
   "metadata": {},
   "outputs": [],
   "source": [
    "plt.figure(figsize=(12, 3))\n",
    "plt.bar(precipitaciones_por_mes.index, precipitaciones_por_mes.values, color='skyblue', alpha=0.8)\n",
    "plt.title('Precipitaciones Totales por Mes en 2019', fontsize=16)\n",
    "plt.xlabel('Mes', fontsize=14)\n",
    "plt.ylabel('Precipitaciones Totales (PRCP)', fontsize=14)\n",
    "plt.xticks(ticks=precipitaciones_por_mes.index, labels=precipitaciones_por_mes.index, fontsize=12)\n",
    "plt.grid(axis='y', linestyle='--', alpha=0.7)\n",
    "plt.show()"
   ]
  },
  {
   "cell_type": "code",
   "execution_count": null,
   "metadata": {},
   "outputs": [],
   "source": [
    "# Precipitaciones totales por mes\n",
    "precipitaciones_por_mes = df_vuelos.groupby('MONTH')['PRCP'].sum()\n",
    "\n",
    "# Cantidad de vuelos demorados por mes\n",
    "demoras_por_mes = df_vuelos[df_vuelos['DEP_DEL15'] == 1].groupby('MONTH').size()\n",
    "\n",
    "fig, ax1 = plt.subplots(figsize=(12, 3))\n",
    "\n",
    "\n",
    "color_precipitaciones = 'skyblue'\n",
    "ax1.bar(precipitaciones_por_mes.index, precipitaciones_por_mes.values, color=color_precipitaciones, alpha=0.8, label='Precipitaciones Totales')\n",
    "ax1.set_xlabel('Mes', fontsize=14)\n",
    "ax1.set_ylabel('Precipitaciones Totales (PRCP)', color=color_precipitaciones, fontsize=14)\n",
    "ax1.tick_params(axis='y', labelcolor=color_precipitaciones)\n",
    "ax1.set_title('Precipitaciones y Vuelos Demorados por Mes', fontsize=16)\n",
    "\n",
    "\n",
    "ax2 = ax1.twinx()\n",
    "color_demoras = 'darkred'\n",
    "ax2.plot(demoras_por_mes.index, demoras_por_mes.values, color=color_demoras, marker='o', label='Vuelos Demorados', linewidth=2)\n",
    "ax2.set_ylabel('Cantidad de Vuelos Demorados', color=color_demoras, fontsize=14)\n",
    "ax2.tick_params(axis='y', labelcolor=color_demoras)\n",
    "\n",
    "\n",
    "ax1.legend(loc='upper left', fontsize=12)\n",
    "ax2.legend(loc='upper right', fontsize=12)\n"
   ]
  },
  {
   "cell_type": "markdown",
   "metadata": {
    "id": "wA6BcwkzU8fw"
   },
   "source": [
    "Se observa que el mayor pico de demoras coincide con el mayor mes de precipitaciones, que a su vez coincide con el mes de comienzo de vacaciones de verano en EEUU"
   ]
  },
  {
   "cell_type": "code",
   "execution_count": null,
   "metadata": {},
   "outputs": [],
   "source": [
    "demoras_lluvia = df_vuelos.groupby('DEPARTING_AIRPORT').agg(\n",
    "    LLUVIA_ACUMULADA=('PRCP', 'sum'),\n",
    "    VUELOS_TOTALES=('DEP_DEL15', 'count'),\n",
    "    VUELOS_DEMORADOS=('DEP_DEL15', 'sum')\n",
    ").reset_index()\n",
    "\n",
    "# Calcular porcentaje de vuelos demorados\n",
    "demoras_lluvia['PORCENTAJE_DEMORAS'] = (demoras_lluvia['VUELOS_DEMORADOS'] / demoras_lluvia['VUELOS_TOTALES']) * 100"
   ]
  },
  {
   "cell_type": "code",
   "execution_count": null,
   "metadata": {},
   "outputs": [],
   "source": [
    "plt.figure(figsize=(10, 6))\n",
    "sns.scatterplot(data=demoras_lluvia, x='LLUVIA_ACUMULADA', y='PORCENTAJE_DEMORAS', hue='DEPARTING_AIRPORT', palette='viridis')\n",
    "plt.xlabel('Lluvia acumulada (PRCP)')\n",
    "plt.ylabel('Porcentaje de vuelos demorados')\n",
    "plt.title('Relación entre lluvia acumulada y demoras en aeropuertos')\n",
    "plt.tight_layout()\n",
    "plt.show()"
   ]
  },
  {
   "cell_type": "markdown",
   "metadata": {
    "id": "yX9HCGDtRLWA"
   },
   "source": [
    "**Dispersión de los Datos**:\n",
    "\n",
    "No parece haber una correlación clara entre la cantidad de lluvia acumulada y el porcentaje de vuelos demorados, ya que los puntos están dispersos sin un patrón evidente.\n",
    "\n",
    "**Lluvia vs. Demoras**:\n",
    "\n",
    "Algunos aeropuertos con alta acumulación de lluvia no necesariamente tienen altos porcentajes de vuelos demorados, y viceversa. Esto sugiere que la lluvia acumulada no es el único factor que influye en las demoras de vuelos.\n",
    "\n",
    "**Rango Común de Demoras**:\n",
    "\n",
    "La mayoría de los aeropuertos tienen porcentajes de vuelos demorados entre el 7.5% y el 15%, independientemente de la cantidad de lluvia acumulada.\n",
    "\n",
    "**Interpretaciones Adicionales**:\n",
    "Factores Externos: Es probable que otros factores, como la gestión del tráfico aéreo, la infraestructura del aeropuerto, y las condiciones operativas, jueguen un papel significativo en las demoras de vuelos.\n"
   ]
  },
  {
   "cell_type": "markdown",
   "metadata": {
    "id": "_WIgAhX1kAx0"
   },
   "source": [
    "### Nieve caída y demoras"
   ]
  },
  {
   "cell_type": "code",
   "execution_count": null,
   "metadata": {},
   "outputs": [],
   "source": [
    "# Suma de la nieve caida diaria por cada mes\n",
    "nieve_por_mes = df_vuelos.groupby('MONTH')['SNOW'].sum()\n",
    "print(nieve_por_mes)"
   ]
  },
  {
   "cell_type": "code",
   "execution_count": null,
   "metadata": {},
   "outputs": [],
   "source": [
    "# Nieve caída por mes\n",
    "nieve_por_mes = df_vuelos.groupby('MONTH')['SNOW'].sum()\n",
    "demoras_por_mes = df_vuelos[df_vuelos['DEP_DEL15'] == 1].groupby('MONTH').size()\n",
    "fig, ax1 = plt.subplots(figsize=(12, 3))\n",
    "color_nieve = 'skyblue'\n",
    "ax1.bar(nieve_por_mes.index, nieve_por_mes.values, color=color_nieve, alpha=0.8, label='Precipitaciones Totales')\n",
    "ax1.set_xlabel('Mes', fontsize=14)\n",
    "ax1.set_ylabel('Nieve Caida (SNOW)', color=color_nieve, fontsize=14)\n",
    "ax1.tick_params(axis='y', labelcolor=color_precipitaciones)\n",
    "ax1.set_title('Nieve caída y Vuelos Demorados por Mes', fontsize=16)\n",
    "ax2 = ax1.twinx()\n",
    "color_demoras = 'darkred'\n",
    "ax2.plot(demoras_por_mes.index, demoras_por_mes.values, color=color_demoras, marker='o', label='Vuelos Demorados', linewidth=2)\n",
    "ax2.set_ylabel('Cantidad de Vuelos Demorados', color=color_demoras, fontsize=14)\n",
    "ax2.tick_params(axis='y', labelcolor=color_demoras)\n",
    "ax1.legend(loc='upper left', fontsize=12)\n",
    "ax2.legend(loc='upper right', fontsize=12)\n",
    "plt.show()"
   ]
  },
  {
   "cell_type": "markdown",
   "metadata": {
    "id": "BNIBEf3vWECS"
   },
   "source": [
    "Se observa que la variable Nieve Caida (SNOW) no es determinante en las demoras"
   ]
  },
  {
   "cell_type": "markdown",
   "metadata": {
    "id": "yOsjSw_pkKv5"
   },
   "source": [
    "### Nieve acumulada en superficie y demoras"
   ]
  },
  {
   "cell_type": "code",
   "execution_count": null,
   "metadata": {},
   "outputs": [],
   "source": [
    "# Suma de nieve acumulada en superficie por cada mes\n",
    "nieve_en_superficie_por_mes = df_vuelos.groupby('MONTH')['SNWD'].sum()\n",
    "print(nieve_en_superficie_por_mes)"
   ]
  },
  {
   "cell_type": "code",
   "execution_count": null,
   "metadata": {},
   "outputs": [],
   "source": [
    "nieve_por_mes = df_vuelos.groupby('MONTH')['SNWD'].sum()\n",
    "demoras_por_mes = df_vuelos[df_vuelos['DEP_DEL15'] == 1].groupby('MONTH').size()\n",
    "fig, ax1 = plt.subplots(figsize=(12, 3))\n",
    "color_nieve = 'skyblue'\n",
    "ax1.bar(nieve_en_superficie_por_mes.index, nieve_en_superficie_por_mes.values, color=color_nieve, alpha=0.8, label='Precipitaciones Totales')\n",
    "ax1.set_xlabel('Mes', fontsize=14)\n",
    "ax1.set_ylabel('Nieve en superficie (SNWD)', color=color_nieve, fontsize=14)\n",
    "ax1.tick_params(axis='y', labelcolor=color_precipitaciones)\n",
    "ax1.set_title('Nieve acumulada en superficie y Vuelos Demorados por Mes', fontsize=16)\n",
    "ax2 = ax1.twinx()\n",
    "color_demoras = 'darkred'\n",
    "ax2.plot(demoras_por_mes.index, demoras_por_mes.values, color=color_demoras, marker='o', label='Vuelos Demorados', linewidth=2)\n",
    "ax2.set_ylabel('Cantidad de Vuelos Demorados', color=color_demoras, fontsize=14)\n",
    "ax2.tick_params(axis='y', labelcolor=color_demoras)\n",
    "ax1.legend(loc='upper left', fontsize=12)\n",
    "ax2.legend(loc='upper right', fontsize=12)\n",
    "\n",
    "plt.show()"
   ]
  },
  {
   "cell_type": "markdown",
   "metadata": {
    "id": "aFbVAk51WvSq"
   },
   "source": [
    "Se observa que la variable Nieve acumulada en superficie (SNWD) no es determinante en las demoras"
   ]
  },
  {
   "cell_type": "markdown",
   "metadata": {
    "id": "pTj5-ZOtkRo_"
   },
   "source": [
    "### Vientos y demoras"
   ]
  },
  {
   "cell_type": "code",
   "execution_count": null,
   "metadata": {},
   "outputs": [],
   "source": [
    "# Suma de viento por cada mes\n",
    "viento_millas_hora_mes = df_vuelos.groupby('MONTH')['AWND'].sum()\n",
    "print(viento_millas_hora_mes)"
   ]
  },
  {
   "cell_type": "code",
   "execution_count": null,
   "metadata": {},
   "outputs": [],
   "source": [
    "viento_millas_hora_mes = df_vuelos.groupby('MONTH')['AWND'].sum()\n",
    "demoras_por_mes = df_vuelos[df_vuelos['DEP_DEL15'] == 1].groupby('MONTH').size()\n",
    "fig, ax1 = plt.subplots(figsize=(12, 3))\n",
    "color_nieve = 'skyblue'\n",
    "ax1.bar(viento_millas_hora_mes.index, viento_millas_hora_mes.values, color=color_nieve, alpha=0.8, label='Viento')\n",
    "ax1.set_xlabel('Mes', fontsize=14)\n",
    "ax1.set_ylabel('Viento (AWND)', color=color_nieve, fontsize=14)\n",
    "ax1.tick_params(axis='y', labelcolor=color_precipitaciones)\n",
    "ax1.set_title('Viento y Vuelos Demorados por Mes', fontsize=16)\n",
    "\n",
    "ax2 = ax1.twinx()\n",
    "color_demoras = 'darkred'\n",
    "ax2.plot(demoras_por_mes.index, demoras_por_mes.values, color=color_demoras, marker='o', label='Vuelos Demorados', linewidth=2)\n",
    "ax2.set_ylabel('Cantidad de Vuelos Demorados', color=color_demoras, fontsize=14)\n",
    "ax2.tick_params(axis='y', labelcolor=color_demoras)\n",
    "\n",
    "ax1.legend(loc='upper left', fontsize=12)\n",
    "ax2.legend(loc='upper right', fontsize=12)\n",
    "\n",
    "plt.show()"
   ]
  },
  {
   "cell_type": "markdown",
   "metadata": {
    "id": "zhxcXok4yUNF"
   },
   "source": [
    "Se observa que la variable viento en superficie (AWND) no es determinante en las demoras"
   ]
  },
  {
   "cell_type": "markdown",
   "metadata": {
    "id": "u79stRNolCuN"
   },
   "source": [
    "### Aerolíneas y demoras"
   ]
  },
  {
   "cell_type": "code",
   "execution_count": null,
   "metadata": {},
   "outputs": [],
   "source": [
    "#Factores relacionados con la aerolínea: Número de vuelos por aerolínea\n",
    "# Agrupar por aerolínea\n",
    "demoras_aerolineas = df_vuelos.groupby('CARRIER_NAME')['DEP_DEL15'].mean().reset_index()\n",
    "demoras_aerolineas.columns = ['CARRIER_NAME', 'PORCENTAJE_DEMORAS']  # Renombrar columnas\n",
    "\n",
    "demoras_aerolineas = demoras_aerolineas.sort_values(by='PORCENTAJE_DEMORAS', ascending=False)\n",
    "\n",
    "plt.figure(figsize=(12, 6))\n",
    "sns.barplot(data=demoras_aerolineas, x='CARRIER_NAME', y='PORCENTAJE_DEMORAS', palette='viridis')\n",
    "plt.xticks(rotation=90)\n",
    "plt.xlabel('Aerolínea')\n",
    "plt.ylabel('Porcentaje de vuelos demorados')\n",
    "plt.title('Demoras por aerolínea (ordenadas de mayor a menor)')\n",
    "plt.show()"
   ]
  },
  {
   "cell_type": "markdown",
   "metadata": {
    "id": "kceUnhtGSSgc"
   },
   "source": [
    "**Aerolínea con Más Demoras**:\n",
    "\n",
    "Frontier Airlines Inc.: Tiene el porcentaje más alto de vuelos demorados, lo que indica que los pasajeros de esta aerolínea tienen una mayor probabilidad de experimentar demoras.\n",
    "\n",
    "**Aerolíneas con Altos Porcentajes de Demoras**:\n",
    "\n",
    "JetBlue Airways, Atlantic Southeast Airlines y Southwest Airlines Co.: Estas aerolíneas también muestran altos porcentajes de vuelos demorados, situándose entre las más propensas a demoras.\n",
    "\n",
    "**Aerolíneas con Menos Demoras**:\n",
    "\n",
    "Delta Air Lines Inc. y Hawaiian Airlines Inc.: Estas aerolíneas tienen los porcentajes más bajos de vuelos demorados, lo que sugiere una mejor puntualidad y confiabilidad en sus horarios de vuelo.\n",
    "\n",
    "***Variabilidad en las Demoras***:\n",
    "\n",
    "Amplia Variabilidad: Podemos observar una amplia variabilidad en los porcentajes de demoras entre las diferentes aerolíneas, lo que indica que la experiencia del pasajero puede variar significativamente dependiendo de la aerolínea que elija."
   ]
  },
  {
   "cell_type": "markdown",
   "metadata": {
    "id": "19cIwB8klKEb"
   },
   "source": [
    "### Horario de embarque y demoras"
   ]
  },
  {
   "cell_type": "code",
   "execution_count": null,
   "metadata": {},
   "outputs": [],
   "source": [
    "#Factores relacionados con los pasajeros: Horarios de embarque\n",
    "# Agrupar por franja horaria\n",
    "demoras_horarios = df_vuelos.groupby('DEP_TIME_BLK').agg(\n",
    "    TOTAL_VUELOS=('DEP_DEL15', 'count'),\n",
    "    VUELOS_DEMORADOS=('DEP_DEL15', 'sum')\n",
    ").reset_index()\n",
    "demoras_horarios['PORCENTAJE_DEMORAS'] = (demoras_horarios['VUELOS_DEMORADOS'] / demoras_horarios['TOTAL_VUELOS']) * 100\n",
    "\n",
    "# Gráfico de barras\n",
    "plt.figure(figsize=(12, 6))\n",
    "sns.barplot(data=demoras_horarios, x='DEP_TIME_BLK', y='PORCENTAJE_DEMORAS', palette='coolwarm')\n",
    "plt.xticks(rotation=45)\n",
    "plt.xlabel('Franja horaria de salida')\n",
    "plt.ylabel('Porcentaje de vuelos demorados')\n",
    "plt.title('Demoras por horario de salida')\n",
    "plt.show()"
   ]
  },
  {
   "cell_type": "markdown",
   "metadata": {
    "id": "3MlNAil8StAV"
   },
   "source": [
    "**Variación de las Demoras a lo Largo del Día**:\n",
    "\n",
    "-**Madrugada** (0001-0559): Este período tiene uno de los porcentajes más bajos de vuelos demorados.\n",
    "\n",
    "-**Mañana Temprana** (0600-1159): El porcentaje de vuelos demorados comienza a aumentar.\n",
    "\n",
    "-**Mediodía y Tarde Temprana** (1200-1659): Se observa un aumento constante en el porcentaje de vuelos demorados.\n",
    "\n",
    "-**Tarde y Noche Temprana** (1700-1959): El porcentaje de vuelos demorados alcanza su punto máximo.\n",
    "\n",
    "-**Noche** (2000-2259): El porcentaje comienza a disminuir ligeramente.\n",
    "\n",
    "-**Noche Tardía** (2300-2359): El porcentaje de vuelos demorados se reduce aún más, pero sigue siendo significativo.\n",
    "\n",
    "-**Conclusiones**\n",
    "**Mayor Porcentaje de Demoras en la Tarde**:\n",
    "\n",
    "Las franjas horarias de 1700-1959 muestran el mayor porcentaje de vuelos demorados, lo que sugiere que los vuelos durante este período son más propensos a demoras.\n",
    "\n",
    "**Patrón de Incremento a lo Largo del Día**:\n",
    "\n",
    "Hay un patrón claro de incremento en las demoras a medida que avanza el día, alcanzando el pico en la tarde y disminuyendo ligeramente por la noche. Esto podría estar relacionado con la acumulación de retrasos a lo largo del día, tráfico aéreo más denso, y factores operativos en los aeropuertos.\n",
    "\n",
    "**Menor Porcentaje de Demoras en la Madrugada**:\n",
    "\n",
    "Los vuelos que salen en las primeras horas de la madrugada (0001-0559) tienen los menores porcentajes de demoras, lo que podría deberse a un menor tráfico aéreo y condiciones operativas más favorables en los aeropuertos."
   ]
  },
  {
   "cell_type": "markdown",
   "metadata": {
    "id": "RoXVK6BRlWEZ"
   },
   "source": [
    "### Coordenadas geográficas, lluvias y demoras"
   ]
  },
  {
   "cell_type": "code",
   "execution_count": null,
   "metadata": {},
   "outputs": [],
   "source": [
    "import plotly.express as px\n",
    "\n",
    "# Filtrar datos: aeropuerto, latitud, longitud, precipitaciones\n",
    "aeropuertos_lluvia = df_vuelos.groupby(['DEPARTING_AIRPORT', 'LATITUDE', 'LONGITUDE']).agg(\n",
    "    LLUVIA_PROMEDIO=('PRCP', 'mean'),\n",
    "    LLUVIA_ACUMULADA=('PRCP', 'sum')\n",
    ").reset_index()\n",
    "\n",
    "# Crear un mapa de calor con plotly\n",
    "fig = px.scatter_geo(\n",
    "    aeropuertos_lluvia,\n",
    "    lat='LATITUDE',\n",
    "    lon='LONGITUDE',\n",
    "    size='LLUVIA_ACUMULADA',  # Tamaño basado en lluvia acumulada\n",
    "    color='LLUVIA_PROMEDIO',  # Color basado en lluvia promedio\n",
    "    hover_name='DEPARTING_AIRPORT',\n",
    "    title=\"Mapa de precipitaciones por aeropuerto (junio)\",\n",
    "    color_continuous_scale='Viridis',\n",
    "    projection='natural earth'\n",
    ")\n",
    "\n",
    "fig.show()"
   ]
  },
  {
   "cell_type": "code",
   "execution_count": null,
   "metadata": {},
   "outputs": [],
   "source": [
    "# Agrupar por coordenadas (latitud y longitud) para cada aeropuerto\n",
    "aeropuertos_agrupados = df_vuelos.groupby(['LATITUDE', 'LONGITUDE']).agg(\n",
    "    TOTAL_VUELOS=('DEP_DEL15', 'count'),\n",
    "    VUELOS_DEMORADOS=('DEP_DEL15', 'sum'),\n",
    "    LLUVIA_PROMEDIO=('PRCP', 'mean'),\n",
    "    LLUVIA_ACUMULADA=('PRCP', 'sum')\n",
    ").reset_index()\n",
    "\n",
    "# Calcular porcentaje de vuelos demorados\n",
    "aeropuertos_agrupados['PORCENTAJE_DEMORAS'] = (aeropuertos_agrupados['VUELOS_DEMORADOS'] / aeropuertos_agrupados['TOTAL_VUELOS']) * 100\n",
    "\n",
    "# Mostrar el DataFrame resultante\n",
    "print(aeropuertos_agrupados.head())"
   ]
  },
  {
   "cell_type": "code",
   "execution_count": null,
   "metadata": {},
   "outputs": [],
   "source": [
    "plt.figure(figsize=(10, 6))\n",
    "\n",
    "# Create the scatter plot and get the mappable object\n",
    "scatter = sns.scatterplot(data=aeropuertos_agrupados, x='LLUVIA_PROMEDIO', y='PORCENTAJE_DEMORAS',\n",
    "                         hue='LLUVIA_PROMEDIO', palette='viridis', alpha=0.8)\n",
    "\n",
    "plt.xlabel('Lluvia promedio (junio)')\n",
    "plt.ylabel('Porcentaje de vuelos demorados')\n",
    "plt.title('Relación entre lluvias promedio y porcentaje de demoras por aeropuerto')\n",
    "\n",
    "# Add the colorbar using the mappable object from the scatter plot\n",
    "plt.colorbar(scatter.collections[0], label='Lluvia promedio')\n",
    "\n",
    "plt.show()"
   ]
  },
  {
   "cell_type": "markdown",
   "metadata": {
    "id": "zaGLceicTl1f"
   },
   "source": [
    "Este gráfico es un diagrama de dispersión que muestra la relación entre la \"Lluvia promedio en junio\" (eje X) y el \"Porcentaje de vuelos demorados\" (eje Y) para varios aeropuertos.\n",
    "\n",
    "Eje X: Representa la lluvia promedio en junio, que varía desde 0.00 hasta 0.25.\n",
    "\n",
    "Eje Y: Representa el porcentaje de vuelos demorados, que varía desde 7.5% hasta 27.5%.\n",
    "\n",
    "Puntos: Cada punto en el gráfico representa un aeropuerto diferente.\n",
    "\n",
    "Colores: Los puntos están codificados por colores según la leyenda a la derecha del gráfico, que muestra un gradiente de color de púrpura (0.00) a amarillo (1.0) para la lluvia promedio.\n",
    "\n",
    "**Conclusiones**:\n",
    "**Relación General**:\n",
    "\n",
    "No hay una correlación clara y directa entre la lluvia promedio en junio y el porcentaje de vuelos demorados. Los puntos están dispersos, indicando que otros factores podrían influir en las demoras de los vuelos.\n",
    "\n",
    "**Patrón de Demoras**:\n",
    "\n",
    "Algunos aeropuertos con baja lluvia promedio tienen un alto porcentaje de vuelos demorados, lo que sugiere que factores como la eficiencia operativa y la gestión del tráfico aéreo también son cruciales.\n",
    "\n",
    "**Rango Común de Demoras**:\n",
    "\n",
    "La mayoría de los aeropuertos tienen un porcentaje de vuelos demorados que oscila entre 10% y 20%, independientemente de la cantidad de lluvia promedio.\n",
    "\n",
    "**Interpretaciones Adicionales**:\n",
    "Factores Externos: La falta de una correlación fuerte indica que la cantidad de lluvia promedio en junio no es el único factor determinante de las demoras de vuelos. Elementos como el tráfico aéreo, la capacidad del aeropuerto, y condiciones meteorológicas adicionales (como el viento y la visibilidad) también son significativos."
   ]
  },
  {
   "cell_type": "code",
   "execution_count": null,
   "metadata": {},
   "outputs": [],
   "source": [
    "import plotly.express as px\n",
    "\n",
    "fig = px.scatter_geo(\n",
    "    aeropuertos_agrupados,\n",
    "    lat='LATITUDE',\n",
    "    lon='LONGITUDE',\n",
    "    size='PORCENTAJE_DEMORAS',  # Tamaño según el porcentaje de demoras\n",
    "    color='LLUVIA_PROMEDIO',   # Color según las lluvias promedio\n",
    "    hover_name='PORCENTAJE_DEMORAS',\n",
    "    title='Mapa de lluvias promedio y demoras en aeropuertos (junio)'\n",
    ")\n",
    "fig.update_geos(scope=\"north america\")\n",
    "fig.show()"
   ]
  },
  {
   "cell_type": "code",
   "execution_count": null,
   "metadata": {},
   "outputs": [],
   "source": [
    "tabla = aeropuertos_agrupados[['LATITUDE', 'LONGITUDE', 'PORCENTAJE_DEMORAS', 'LLUVIA_PROMEDIO']]\n",
    "tabla"
   ]
  },
  {
   "cell_type": "markdown",
   "metadata": {
    "id": "FC5MlTw_VrRJ"
   },
   "source": [
    "**Aeropuertos con Mayor Porcentaje de Vuelos Demorados**\n",
    "Aeropuerto en la fila 0 (18.44, -66.002): Tiene el porcentaje más alto de vuelos demorados (27.38%) y no presenta lluvias promedio en junio.\n",
    "\n",
    "**Aeropuerto en la fila 70 **(40.696, -74.172): Tiene un alto porcentaje de vuelos demorados (25.47%) y una lluvia promedio de 0.155.\n",
    "\n",
    "**Aeropuertos con Menor Porcentaje de Vuelos Demorados**\n",
    "Aeropuerto en la fila 1 (19.739, -156.046): Tiene el porcentaje más bajo de vuelos demorados (7.95%) con una lluvia promedio de 0.026.\n",
    "\n",
    "**Aeropuerto en la fila 95** (61.169, -149.985): Presenta un 9.93% de vuelos demorados con una lluvia promedio de 0.037.\n",
    "\n",
    "**Relación entre Lluvia Promedio y Demoras**\n",
    "-**Variedad de Lluvias Promedio**: Algunos aeropuertos con altos porcentajes de demoras no tienen lluvias (por ejemplo, fila 0), mientras que otros con lluvias considerables tienen porcentajes de demoras variados.\n",
    "\n",
    "**Ejemplo de Alta Lluvia Promedio**: El aeropuerto en la fila 91 (44.886, -93.218) tiene la lluvia promedio más alta (0.245) y un porcentaje de demoras relativamente bajo (15.20%).\n",
    "\n",
    "**Distribución Geográfica**\n",
    "**Distribución de Demoras en Diferentes Latitudes**: La mayoría de los aeropuertos con altos porcentajes de demoras se encuentran en latitudes más bajas (por ejemplo, entre 18 y 40 grados).\n",
    "\n",
    "**Ejemplos de Aeropuertos en Latitudes Altas**: Los aeropuertos en latitudes más altas, como el de la fila 95 (61.169, -149.985) y la fila 89 (43.565, -116.225), tienden a tener porcentajes de demoras más bajos y lluvias promedio moderadas.\n",
    "\n",
    "**Comparaciones Notables**\n",
    "Variabilidad en la Lluvia Promedio: La tabla muestra una variabilidad significativa en la cantidad de lluvia promedio, con valores que van desde 0.0 hasta 0.245.\n",
    "\n",
    "**Impacto de la Lluvia en las Demoras**: No parece haber una correlación directa fuerte entre la cantidad de lluvia promedio y el porcentaje de vuelos demorados, lo que sugiere que otros factores operativos y logísticos también juegan un papel importante.\n",
    "\n"
   ]
  },
  {
   "cell_type": "markdown",
   "metadata": {
    "id": "LzYGlU9RXT7Y"
   },
   "source": [
    "Ejemplos de Regiones en Latitudes Bajas\n",
    "Región del Caribe y Centroamérica:\n",
    "\n",
    "Puerto Rico (Latitud 18.44): Aeropuerto en la fila 0 con un 27.38% de vuelos demorados.\n",
    "\n",
    "Hawai (Latitudes 19.739, 20.901, 21.319, 21.979): Aeropuertos en las filas 1 a 4 con porcentajes de demoras entre 7.95% y 10.79%.\n",
    "\n",
    "Región del Sureste de Estados Unidos:\n",
    "\n",
    "Florida (Latitudes 25.792, 26.074, 26.536, 26.682, 27.973, 28.432, 28.775): Aeropuertos en las filas 5 a 11 con porcentajes de demoras entre 14.87% y 22.56%.\n",
    "\n",
    "Texas (Latitudes 29.533, 29.645, 29.983): Aeropuertos en las filas 12 a 14 con porcentajes de demoras entre 15.31% y 24.68%.\n",
    "\n",
    "Luisiana (Latitud 29.991): Aeropuerto en la fila 15 con un 19.65% de vuelos demorados.\n",
    "\n",
    "Importancia de las Regiones en Latitudes Bajas\n",
    "Las regiones en latitudes bajas suelen tener climas más cálidos y, en algunos casos, temporadas de lluvias más intensas, lo que podría afectar la operación de los aeropuertos. Sin embargo, de los datos que tenemos, observamos que no hay una correlación directa y fuerte entre la lluvia promedio y el porcentaje de vuelos demorados, lo que sugiere que factores adicionales, como la gestión del tráfico aéreo y la eficiencia operativa, también juegan un papel importante."
   ]
  },
  {
   "cell_type": "markdown",
   "metadata": {
    "id": "OwttOR5jlp37"
   },
   "source": [
    "### Regiones geográficas y precipitaciones"
   ]
  },
  {
   "cell_type": "code",
   "execution_count": null,
   "metadata": {},
   "outputs": [],
   "source": [
    "# Función para asignar regiones según latitud y longitud\n",
    "def asignar_region(lat, lon):\n",
    "    if lat > 40:  # Norte\n",
    "        if lon < -100:\n",
    "            return 'Noroeste'\n",
    "        elif lon >= -100 and lon < -85:\n",
    "            return 'Centro-Norte'\n",
    "        else:\n",
    "            return 'Noreste'\n",
    "    elif lat <= 40:  # Sur\n",
    "        if lon < -100:\n",
    "            return 'Suroeste'\n",
    "        elif lon >= -100 and lon < -85:\n",
    "            return 'Centro-Sur'\n",
    "        else:\n",
    "            return 'Sureste'\n",
    "\n",
    "# Crear una columna con la región en el DataFrame\n",
    "df_vuelos['REGION'] = df_vuelos.apply(lambda row: asignar_region(row['LATITUDE'], row['LONGITUDE']), axis=1)\n",
    "\n",
    "# Agrupar por región para calcular lluvias promedio/acumuladas y demoras\n",
    "regiones_agrupadas = df_vuelos.groupby('REGION').agg(\n",
    "    TOTAL_VUELOS=('DEP_DEL15', 'count'),\n",
    "    VUELOS_DEMORADOS=('DEP_DEL15', 'sum'),\n",
    "    LLUVIA_PROMEDIO=('PRCP', 'mean'),\n",
    "    LLUVIA_ACUMULADA=('PRCP', 'sum')\n",
    ").reset_index()\n",
    "\n",
    "# Calcular porcentaje de vuelos demorados\n",
    "regiones_agrupadas['PORCENTAJE_DEMORAS'] = (regiones_agrupadas['VUELOS_DEMORADOS'] / regiones_agrupadas['TOTAL_VUELOS']) * 100\n",
    "\n",
    "# Mostrar resultados\n",
    "print(regiones_agrupadas)\n"
   ]
  },
  {
   "cell_type": "code",
   "execution_count": null,
   "metadata": {},
   "outputs": [],
   "source": [
    "# Gráfico de barras para lluvias acumuladas por región\n",
    "plt.figure(figsize=(12, 6))\n",
    "sns.barplot(data=regiones_agrupadas, x='REGION', y='LLUVIA_ACUMULADA', palette='coolwarm')\n",
    "plt.xlabel('Región')\n",
    "plt.ylabel('Lluvia acumulada (junio)')\n",
    "plt.title('Lluvias acumuladas por región')\n",
    "plt.show()\n",
    "\n",
    "# Gráfico de barras para porcentaje de demoras por región\n",
    "plt.figure(figsize=(12, 6))\n",
    "sns.barplot(data=regiones_agrupadas, x='REGION', y='PORCENTAJE_DEMORAS', palette='viridis')\n",
    "plt.xlabel('Región')\n",
    "plt.ylabel('Porcentaje de vuelos demorados')\n",
    "plt.title('Porcentaje de vuelos demorados por región')\n",
    "plt.show()"
   ]
  },
  {
   "cell_type": "markdown",
   "metadata": {
    "id": "OsdvOfsLZgE-"
   },
   "source": [
    "Las regiones Centro-Norte, Centro-Sur y Noreste presentan mayores demoras, pero estas no necesariamente coinciden con las zonas de mayor precipitación. Esto sugiere que otros factores podrían estar influyendo en las demoras aeroportuarias.\n",
    "\n"
   ]
  },
  {
   "cell_type": "code",
   "execution_count": null,
   "metadata": {},
   "outputs": [],
   "source": [
    "#Análisis de congestión aeroportuaria por región\n",
    "plt.figure(figsize=(10, 6))\n",
    "sns.boxplot(data=df_vuelos, x='REGION', y='CONCURRENT_FLIGHTS', palette='coolwarm')\n",
    "plt.xlabel('Región')\n",
    "plt.ylabel('Vuelos concurrentes')\n",
    "plt.title('Congestión aeroportuaria por región')\n",
    "plt.show()"
   ]
  },
  {
   "cell_type": "markdown",
   "metadata": {
    "id": "RkWyTCGxO720"
   },
   "source": [
    "**Región con Mayor Congestión**:\n",
    "\n",
    "Centro-Norte: Es la región con la mayor mediana de vuelos concurrentes, alrededor de 40 vuelos. Esto indica que, en promedio, esta región tiene una alta congestión aeroportuaria.\n",
    "\n",
    "**Alta Variabilidad**:\n",
    "\n",
    "Sureste: Muestra una alta variabilidad en el número de vuelos concurrentes. Hay una amplia distribución de datos, con muchos valores atípicos que indican picos ocasionales de alta congestión.\n",
    "\n",
    "**Regiones con Menor Congestión**:\n",
    "\n",
    "Noroeste y Suroeste: Estas regiones tienen una mediana menor, alrededor de 20 vuelos concurrentes. También muestran menor variabilidad, lo que sugiere que tienen una congestión más constante y manejable.\n",
    "\n",
    "**Regiones Intermedias**:\n",
    "\n",
    "Centro-Sur: Tiene una mediana de alrededor de 30 vuelos concurrentes, con una variabilidad moderada.\n",
    "\n",
    "Noreste: Similar al Suroeste, presenta una congestión relativamente estable con pocos valores atípicos.\n",
    "\n",
    "**Interpretaciones Adicionales**:\n",
    "Picos de Congestión: Los valores atípicos en la región Sureste sugieren que, aunque la mediana es alta, hay momentos en los que la congestión es excepcionalmente alta.\n",
    "\n",
    "**Comparación General**: La región Centro-Norte es la más congestionada en términos de mediana, mientras que el Noroeste y Suroeste son las menos congestionadas."
   ]
  },
  {
   "cell_type": "markdown",
   "metadata": {
    "id": "LHKERSgYmPgv"
   },
   "source": [
    "### Tipo de tráfico aéreo y demoras"
   ]
  },
  {
   "cell_type": "code",
   "execution_count": null,
   "metadata": {},
   "outputs": [],
   "source": [
    "# Agrupar por aeropuerto (latitud, longitud y nombre)\n",
    "tráfico_aeropuertos = df_vuelos.groupby(['DEPARTING_AIRPORT', 'LATITUDE', 'LONGITUDE']).agg(\n",
    "    TOTAL_VUELOS=('DEP_DEL15', 'count'),\n",
    "    VUELOS_DEMORADOS=('DEP_DEL15', 'sum')\n",
    ").reset_index()\n",
    "\n",
    "# Calcular el porcentaje de demoras\n",
    "tráfico_aeropuertos['PORCENTAJE_DEMORAS'] = (tráfico_aeropuertos['VUELOS_DEMORADOS'] / tráfico_aeropuertos['TOTAL_VUELOS']) * 100\n",
    "\n",
    "# Clasificar aeropuertos según tráfico total (bajo, medio, alto)\n",
    "bins = [0, 1000, 10000, tráfico_aeropuertos['TOTAL_VUELOS'].max()]\n",
    "labels = ['Bajo Tráfico', 'Medio Tráfico', 'Alto Tráfico']\n",
    "tráfico_aeropuertos['CATEGORÍA_TRÁFICO'] = pd.cut(tráfico_aeropuertos['TOTAL_VUELOS'], bins=bins, labels=labels)\n",
    "\n",
    "# Agrupar por categoría de tráfico y calcular tasas promedio\n",
    "categorías_tráfico = tráfico_aeropuertos.groupby('CATEGORÍA_TRÁFICO').agg(\n",
    "    PROMEDIO_DEMORAS=('PORCENTAJE_DEMORAS', 'mean'),\n",
    "    TOTAL_AEROPUERTOS=('DEPARTING_AIRPORT', 'count')\n",
    ").reset_index()\n",
    "\n",
    "# Visualizar en un gráfico de barras\n",
    "plt.figure(figsize=(8, 6))\n",
    "sns.barplot(data=categorías_tráfico, x='CATEGORÍA_TRÁFICO', y='PROMEDIO_DEMORAS', palette='coolwarm')\n",
    "plt.xlabel('Categoría de Tráfico')\n",
    "plt.ylabel('Porcentaje Promedio de Demoras')\n",
    "plt.title('Porcentaje de demoras según el tráfico del aeropuerto')\n",
    "plt.show()"
   ]
  },
  {
   "cell_type": "markdown",
   "metadata": {
    "id": "yhbrII-UanSd"
   },
   "source": [
    "Los aeropuertos de bajo tráfico tengan un porcentaje mayor de demoras es una observación interesante y contraria a lo que podríamos esperar en primera instancia."
   ]
  },
  {
   "cell_type": "code",
   "execution_count": null,
   "metadata": {},
   "outputs": [],
   "source": [
    "plt.figure(figsize=(10, 6))\n",
    "sns.scatterplot(data=tráfico_aeropuertos, x='TOTAL_VUELOS', y='PORCENTAJE_DEMORAS', hue='TOTAL_VUELOS', palette='viridis', size='TOTAL_VUELOS', sizes=(20, 200))\n",
    "plt.xlabel('Total de vuelos por aeropuerto')\n",
    "plt.ylabel('Porcentaje de demoras')\n",
    "plt.title('Relación entre tráfico total y porcentaje de demoras')\n",
    "plt.legend(title='Tráfico total', bbox_to_anchor=(1.05, 1), loc='upper left')\n",
    "plt.tight_layout()\n",
    "plt.show()"
   ]
  },
  {
   "cell_type": "markdown",
   "metadata": {
    "id": "DTmvnddvmfY5"
   },
   "source": [
    "### Tipo de tráfico aéreo y bloque horarios"
   ]
  },
  {
   "cell_type": "code",
   "execution_count": null,
   "metadata": {},
   "outputs": [],
   "source": [
    "# Filtrar aeropuertos de bajo tráfico\n",
    "aeropuertos_bajo_trafico = df_vuelos[df_vuelos['DEPARTING_AIRPORT'].isin(\n",
    "    tráfico_aeropuertos[tráfico_aeropuertos['CATEGORÍA_TRÁFICO'] == 'Bajo Tráfico']['DEPARTING_AIRPORT']\n",
    ")]\n",
    "\n",
    "# Agrupar por bloque horario y calcular demoras\n",
    "horarios_bajo_trafico = aeropuertos_bajo_trafico.groupby('DEP_TIME_BLK').agg(\n",
    "    TOTAL_VUELOS=('DEP_DEL15', 'count'),\n",
    "    VUELOS_DEMORADOS=('DEP_DEL15', 'sum')\n",
    ").reset_index()\n",
    "\n",
    "# Calcular el porcentaje de demoras\n",
    "horarios_bajo_trafico['PORCENTAJE_DEMORAS'] = (horarios_bajo_trafico['VUELOS_DEMORADOS'] / horarios_bajo_trafico['TOTAL_VUELOS']) * 100\n",
    "\n",
    "# Gráfico de barras por horario\n",
    "plt.figure(figsize=(12, 6))\n",
    "sns.barplot(data=horarios_bajo_trafico, x='DEP_TIME_BLK', y='PORCENTAJE_DEMORAS', palette='coolwarm')\n",
    "plt.xticks(rotation=45)\n",
    "plt.xlabel('Bloque horario de salida')\n",
    "plt.ylabel('Porcentaje de vuelos demorados')\n",
    "plt.title('Porcentaje de demoras en aeropuertos de bajo tráfico por horario')\n",
    "plt.show()"
   ]
  },
  {
   "cell_type": "markdown",
   "metadata": {
    "id": "bP4uAtZTxREQ"
   },
   "source": [
    "### Correlación\n",
    ".corr(): Este es un método de DataFrame de Pandas que calcula la correlación entre todas las columnas seleccionadas. La correlación mide qué tan fuertemente están relacionadas dos variables. Una correlación positiva significa que a medida que una variable aumenta, la otra también tiende a aumentar. Una correlación negativa significa que a medida que una variable aumenta, la otra tiende a disminuir.\n",
    "\n",
    "La matriz muestra el coeficiente de correlación de Pearson entre pares de variables numéricas. Este valor va de -1 a 1:\n",
    "\n",
    "🔴 1 = correlación positiva perfecta\n",
    "\n",
    "🔵 -1 = correlación negativa perfecta\n",
    "\n",
    "⚪ 0 = sin relación lineal"
   ]
  },
  {
   "cell_type": "code",
   "execution_count": null,
   "metadata": {},
   "outputs": [],
   "source": [
    "matriz_correlacion = df_vuelos.corr(numeric_only=True)\n",
    "\n",
    "plt.figure(figsize=(10, 8))\n",
    "sns.heatmap(matriz_correlacion, annot=True, cmap='coolwarm', fmt=\".2f\")\n",
    "plt.title('Matriz de Correlación de Vuelos')\n",
    "plt.show()\n",
    "print(matriz_correlacion)\n"
   ]
  },
  {
   "cell_type": "markdown",
   "metadata": {
    "id": "98MaQwBwBMwV"
   },
   "source": [
    "La mayoría de las correlaciones son bastante débiles (cercanas a cero). Esto significa que no hay relaciones lineales fuertes entre la mayoría de las variables\n",
    "\n",
    "Puntos a destacar (aunque débiles en general):\n",
    "\n",
    "-AIRPORT_FLIGHTS_MONTH y CONCURRENT_FLIGHTS (0.849023): Hay una correlación positiva relativamente fuerte entre el número de vuelos en el aeropuerto en un mes y el número de vuelos concurrentes. Esto es lógico: a mayor cantidad de vuelos en el aeropuerto, mayor probabilidad de que haya vuelos concurrentes.\n",
    "\n",
    "-AVG_MONTHLY_PASS_AIRPORT y AIRPORT_FLIGHTS_MONTH (0.967896): La correlación entre el promedio de pasajeros mensuales en el aeropuerto y el número de vuelos mensuales en el aeropuerto es extremadamente alta. Esto también es lógico: aeropuertos con más pasajeros suelen tener más vuelos.\n",
    "\n",
    "-AVG_MONTHLY_PASS_AIRLINE y AIRLINE_FLIGHTS_MONTH (0.902849): Similar al punto anterior, hay una alta correlación entre el promedio de pasajeros mensuales de la aerolínea y el número de vuelos mensuales de la aerolínea.\n",
    "\n",
    "-DISTANCE_GROUP y NUMBER_OF_SEATS (0.447485): Hay una correlación moderada entre el grupo de distancia del vuelo y el número de asientos. Esto sugiere que los vuelos de mayor distancia tienden a tener aviones con más asientos.\n",
    "\n",
    "-TMAX y LATITUDE (-0.361213): Existe una correlación negativa moderada entre la temperatura máxima y la latitud. Esto es consistente con la geografía: a mayor latitud (más al norte o al sur), generalmente hace más frío."
   ]
  },
  {
   "cell_type": "markdown",
   "metadata": {
    "id": "ibfY25s3B_wb"
   },
   "source": [
    "La principal conclusión es que las relaciones lineales entre la mayoría de las variables  y el retraso de los vuelos (DEP_DEL15 ) son muy débiles, lo cual es esperable, porque las demoras suelen depender de múltiples factores combinados, y no de uno solo."
   ]
  },
  {
   "cell_type": "markdown",
   "metadata": {
    "id": "U3e6vQXI9AwV"
   },
   "source": [
    "## ANALISIS EXPLORATORIO AVANZADO: AGRUPAMIENTO DE AEROPUERTOS CON CLUSTERING ##\n",
    "\n",
    "Como parte del análisis exploratorio, se incorporó una técnica de aprendizaje no supervisado —específicamente *K-Means Clustering*— con el objetivo de identificar patrones ocultos en el comportamiento operativo y climático de los aeropuertos.\n",
    "\n",
    "Este enfoque permitió agrupar los aeropuertos según variables como la congestión (vuelos concurrentes), el clima (precipitación, temperatura, viento) y su ubicación geográfica (latitud y longitud), sin utilizar la variable objetivo `DEP_DEL15`.\n",
    "\n",
    "El análisis de clustering complementa la exploración estadística y visual, aportando una segmentación estructural del sistema aeroportuario que permite identificar perfiles o “tipologías” de aeropuertos que podrían estar asociados a diferentes riesgos de demora.\n"
   ]
  },
  {
   "cell_type": "code",
   "execution_count": null,
   "metadata": {},
   "outputs": [],
   "source": [
    "from sklearn.cluster import KMeans\n",
    "from sklearn.preprocessing import StandardScaler\n",
    "from sklearn.metrics import silhouette_score, calinski_harabasz_score, davies_bouldin_score\n",
    "\n",
    "# Agrupación por aeropuerto\n",
    "df_cluster = df_vuelos.groupby('DEPARTING_AIRPORT')[['CONCURRENT_FLIGHTS', 'PRCP', 'TMAX', 'AWND', 'LATITUDE', 'LONGITUDE']].mean()\n",
    "\n",
    "# Escalado\n",
    "scaler = StandardScaler()\n",
    "df_scaled = scaler.fit_transform(df_cluster)\n",
    "\n",
    "# Aplicación de K-Means con 3 clusters\n",
    "kmeans = KMeans(n_clusters=3, random_state=42, n_init=10)\n",
    "df_cluster['Cluster'] = kmeans.fit_predict(df_scaled)\n",
    "\n",
    "# Evaluación con métricas\n",
    "labels = kmeans.labels_\n",
    "sil_score = silhouette_score(df_scaled, labels)\n",
    "ch_score = calinski_harabasz_score(df_scaled, labels)\n",
    "db_score = davies_bouldin_score(df_scaled, labels)\n",
    "\n",
    "print(f\"Silhouette Score: {sil_score:.3f}\")\n",
    "print(f\"Calinski-Harabasz Index: {ch_score:.2f}\")\n",
    "print(f\"Davies-Bouldin Index: {db_score:.3f}\")\n"
   ]
  },
  {
   "cell_type": "markdown",
   "metadata": {
    "id": "1Z-2GYQ--UAj"
   },
   "source": [
    "###Evaluación de la Segmentación con Métricas de Clustering\n",
    "\n",
    "Para evaluar la calidad de los clusters obtenidos mediante K-Means, se calcularon tres métricas comúnmente utilizadas:\n",
    "\n",
    "✅ **Silhouette Score**  \n",
    "- Mide la coherencia interna de los clusters (compactación y separación).  \n",
    "- Rango: -1 a 1. Valores cercanos a 1 indican mejor separación.  \n",
    "- **Resultado obtenido: 0.296**  \n",
    "  → Este valor indica una **separación moderada**, aceptable para un conjunto de datos geográficamente disperso como los aeropuertos. No es óptimo, pero muestra que el modelo logró cierta estructuración.\n",
    "\n",
    "✅ **Índice de Calinski-Harabasz**  \n",
    "- Evalúa la relación entre la dispersión entre grupos y la compactación dentro de los grupos.  \n",
    "- Cuanto mayor, mejor.  \n",
    "- **Resultado obtenido: 26.42**  \n",
    "  → Valor aceptable, aunque relativamente bajo. Sugiere que los grupos están algo diferenciados, pero podrían estar influenciados por outliers o solapamiento en algunas zonas del país.\n",
    "\n",
    "✅ **Índice de Davies-Bouldin**  \n",
    "- Evalúa la superposición entre clusters (cuanto más bajo, mejor).  \n",
    "- **Resultado obtenido: 1.048**  \n",
    "  → Valor razonable. Menor a 1.5 suele considerarse aceptable, indicando **poca superposición entre clusters**.\n",
    "\n",
    "---\n",
    "\n",
    "🧠 **Interpretación final**:\n",
    "Aunque las métricas no son ideales, sí reflejan una **estructura razonable** en los datos, especialmente considerando que el clustering se basó en condiciones operativas y climáticas heterogéneas. La presencia de un **outlier evidente (Cluster 0)** también puede haber afectado las métricas globales.\n",
    "\n",
    "Por lo tanto, los clusters resultan **útiles como segmentación exploratoria** para apoyar decisiones de análisis, sin pretender que sean totalmente definitivos ni perfectamente separados.\n",
    "\n"
   ]
  },
  {
   "cell_type": "code",
   "execution_count": null,
   "metadata": {},
   "outputs": [],
   "source": [
    "import seaborn as sns\n",
    "import matplotlib.pyplot as plt\n",
    "\n",
    "df_cluster['Aeropuerto'] = df_cluster.index\n",
    "\n",
    "plt.figure(figsize=(10,4))\n",
    "sns.scatterplot(\n",
    "    data=df_cluster,\n",
    "    x='LONGITUDE', y='LATITUDE',\n",
    "    hue='Cluster',\n",
    "    palette='Set2',\n",
    "    s=100\n",
    ")\n",
    "plt.title('Clusters de Aeropuertos según Congestión y Clima')\n",
    "plt.xlabel('Longitud')\n",
    "plt.ylabel('Latitud')\n",
    "plt.grid(True)\n",
    "plt.show()\n"
   ]
  },
  {
   "cell_type": "markdown",
   "metadata": {
    "id": "EOHfVIWb_pNF"
   },
   "source": [
    "###Interpretación del Clustering de Aeropuertos\n",
    "\n",
    "El gráfico anterior muestra la agrupación de aeropuertos generada mediante el algoritmo K-Means, en base a variables relacionadas con la **congestión operativa (CONCURRENT_FLIGHTS)**, el **clima** (precipitación, temperatura máxima, viento) y la **ubicación geográfica** (latitud y longitud).\n",
    "\n",
    "A continuación, se detallan las características e interpretaciones de cada uno de los clusters identificados:\n",
    "\n",
    "---\n",
    "\n",
    "#### 🔵 Cluster 2 – Aeropuertos del Oeste y Centro-Norte\n",
    "- Ubicados principalmente en la **costa oeste y regiones centrales** del país (California, Colorado, Utah, etc.).\n",
    "- Representan aeropuertos con:\n",
    "  - **Menor congestión** promedio (menos vuelos simultáneos).\n",
    "  - **Mayor variabilidad climática**, incluyendo temperaturas extremas o presencia de nieve.\n",
    "- Suelen ser aeropuertos de tamaño mediano o grande, pero con **menor saturación que los del este**.\n",
    "\n",
    "---\n",
    "\n",
    "#### 🟠 Cluster 1 – Aeropuertos del Este\n",
    "- Concentración notable en la **costa este** (Nueva York, Atlanta, Washington, etc.).\n",
    "- Perfil operativo con:\n",
    "  - **Alta congestión aérea**: mayor cantidad de vuelos concurrentes.\n",
    "  - Climas **más húmedos** y precipitaciones frecuentes.\n",
    "- Incluye muchos **hubs internacionales y centros de conexión**, lo que puede influir en su mayor volumen operativo y riesgo de demoras logísticas.\n",
    "\n",
    "---\n",
    "\n",
    "#### 🟢 Cluster 0 – Aeropuerto Aislado (Outlier)\n",
    "- Este grupo contiene un único aeropuerto, posiblemente ubicado en una **zona tropical o remota** (como Puerto Rico o Hawaii).\n",
    "- Características atípicas:\n",
    "  - **Clima diferenciado**, sin nieve, alta humedad y posiblemente baja visibilidad.\n",
    "  - **Volumen operativo más bajo**, pero con condiciones muy distintas al resto.\n",
    "\n",
    "---\n",
    "\n",
    "### 🧠 Conclusión\n",
    "El análisis de clustering permitió identificar tres **tipologías de aeropuertos** en Estados Unidos según su contexto operativo y climático. Esta segmentación ofrece una perspectiva estructural valiosa para el análisis de demoras, permitiendo adaptar políticas de gestión o predicción según el grupo al que pertenece cada aeropuerto.\n"
   ]
  },
  {
   "cell_type": "markdown",
   "metadata": {
    "id": "cuu3p4qiBBlZ"
   },
   "source": [
    "###Tabla Comparativa de Clusters\n",
    "\n",
    "A continuación se muestra el promedio de las variables más relevantes en cada uno de los clusters identificados. Esta tabla permite interpretar con más claridad el comportamiento operativo y climático de cada grupo:"
   ]
  },
  {
   "cell_type": "code",
   "execution_count": null,
   "metadata": {},
   "outputs": [],
   "source": [
    "# Agrupar por cluster y calcular medias\n",
    "variables_cluster = ['CONCURRENT_FLIGHTS', 'PRCP', 'TMAX', 'AWND', 'LATITUDE', 'LONGITUDE']\n",
    "resumen_clusters = df_cluster.groupby('Cluster')[variables_cluster].mean().round(2)\n",
    "\n",
    "# Mostrar tabla\n",
    "import pandas as pd\n",
    "resumen_clusters.reset_index(inplace=True)\n",
    "resumen_clusters.columns = ['Cluster', 'Vuelos Concurrentes', 'Precipitación (PRCP)',\n",
    "                            'Temp. Máxima (TMAX)', 'Viento (AWND)',\n",
    "                            'Latitud', 'Longitud']\n",
    "resumen_clusters\n"
   ]
  },
  {
   "cell_type": "markdown",
   "metadata": {
    "id": "Xr0LmmsBBn-f"
   },
   "source": [
    "###Observaciones de la Tabla Comparativa de Clusters\n",
    "\n",
    "La siguiente tabla muestra los valores promedio de las variables operativas y climáticas utilizadas para construir los clusters de aeropuertos. A partir de estos resultados, se pueden identificar patrones y diferencias relevantes entre los grupos:\n",
    "\n",
    "---\n",
    "\n",
    "#### 🟢 Cluster 0 – Aeropuerto Aislado o Atípico\n",
    "- **Latitud: 18.44 | Longitud: -66.00**\n",
    "- Corresponde geográficamente a **Puerto Rico**, un aeropuerto ubicado en una región tropical.\n",
    "- Las variables operativas (`Vuelos Concurrentes`, `PRCP`, `TMAX`, `AWND`) presentan valor **cero absoluto**.\n",
    "- 🔎 Esto puede deberse a:\n",
    "  - **Datos faltantes** en el dataset para esa zona.\n",
    "  - O una condición verdaderamente excepcional que el algoritmo identificó como **fuera de patrón**.\n",
    "- 📌 Recomendación: tratar este grupo como un **outlier** y no incluirlo en generalizaciones sobre patrones operativos.\n",
    "\n",
    "---\n",
    "\n",
    "#### 🟠 Cluster 1 – Aeropuertos del Este de EE.UU.\n",
    "- **Latitud: 37.07 | Longitud: -83.20**\n",
    "- Representa aeropuertos ubicados en el **centro-este del país**, incluyendo áreas densamente operativas como Chicago, Atlanta, Nueva York.\n",
    "- **Vuelos Concurrentes promedio: 12.85** → Congestión **alta pero no extrema**.\n",
    "- **Precipitación promedio: 0.14** → Zonas **más húmedas**.\n",
    "- **Temperatura: 71.03°F**, **viento: 8.05 mph** → Climas **templados y estacionales**, coherente con el este de EE.UU.\n",
    "\n",
    "---\n",
    "\n",
    "#### 🔵 Cluster 2 – Aeropuertos del Oeste\n",
    "- **Latitud: 35.25 | Longitud: -120.21**\n",
    "- Agrupa aeropuertos en la **costa oeste y suroeste**, como California, Arizona, Nevada.\n",
    "- **Vuelos Concurrentes promedio: 14.42** → Es el **cluster con mayor congestión operativa**.\n",
    "- **Precipitación: 0.05** → Climas **más secos**.\n",
    "- **Temperatura promedio: 73.46°F** → Más **cálido que el cluster 1**.\n",
    "- Perfil típico de aeropuertos **grandes, metropolitanos y operativamente intensos**.\n",
    "\n",
    "---\n",
    "\n",
    "### 🧠 Conclusión General\n",
    "\n",
    "- **Cluster 1**: Aeropuertos con alta actividad y clima húmedo, típicos del **corredor este**.\n",
    "- **Cluster 2**: Aeropuertos **más cálidos, secos y congestionados**, ubicados en el **oeste**.\n",
    "- **Cluster 0**: Outlier con posibles datos faltantes o comportamiento extremo (Puerto Rico), **no se recomienda incluirlo en comparaciones analíticas generales**.\n",
    "\n",
    "Esta tabla refuerza la segmentación obtenida por K-Means y aporta evidencia para futuras estrategias diferenciadas de análisis o planificación aeroportuaria.\n"
   ]
  },
  {
   "cell_type": "markdown",
   "metadata": {
    "id": "6oiuFodBCDO7"
   },
   "source": [
    "###Gráfico Radar: Comparación de Clusters por Perfil Operativo y Climático"
   ]
  },
  {
   "cell_type": "code",
   "execution_count": null,
   "metadata": {},
   "outputs": [],
   "source": [
    "import matplotlib.pyplot as plt\n",
    "import numpy as np\n",
    "\n",
    "# Variables que vamos a comparar\n",
    "variables_radar = ['CONCURRENT_FLIGHTS', 'PRCP', 'TMAX', 'AWND']\n",
    "df_radar = df_cluster.groupby('Cluster')[variables_radar].mean()\n",
    "\n",
    "# Normalizar (0-1) para que las escalas sean comparables\n",
    "df_radar_norm = (df_radar - df_radar.min()) / (df_radar.max() - df_radar.min())\n",
    "\n",
    "# Preparar para radar plot\n",
    "labels = variables_radar\n",
    "num_vars = len(labels)\n",
    "\n",
    "# Ángulos para cada eje del gráfico\n",
    "angles = np.linspace(0, 2 * np.pi, num_vars, endpoint=False).tolist()\n",
    "angles += angles[:1]  # cerrar círculo\n",
    "\n",
    "# Crear figura\n",
    "fig, ax = plt.subplots(figsize=(6, 6), subplot_kw=dict(polar=True))\n",
    "\n",
    "# Colores por cluster\n",
    "colores = ['green', 'orange', 'blue']\n",
    "\n",
    "# Dibujar un radar por cluster\n",
    "for i, row in df_radar_norm.iterrows():\n",
    "    values = row.tolist()\n",
    "    values += values[:1]  # cerrar el área\n",
    "    ax.plot(angles, values, label=f'Cluster {i}', color=colores[i])\n",
    "    ax.fill(angles, values, alpha=0.25, color=colores[i])\n",
    "\n",
    "# Ajustes estéticos\n",
    "ax.set_theta_offset(np.pi / 2)\n",
    "ax.set_theta_direction(-1)\n",
    "ax.set_thetagrids(np.degrees(angles[:-1]), labels)\n",
    "ax.set_title('Comparación de Clusters por Variables Clave', size=14, pad=20)\n",
    "ax.legend(loc='upper right', bbox_to_anchor=(1.3, 1.1))\n",
    "plt.tight_layout()\n",
    "plt.show()\n"
   ]
  },
  {
   "cell_type": "markdown",
   "metadata": {
    "id": "4GWYFrjZABrG"
   },
   "source": [
    "El siguiente gráfico permite visualizar cómo se comportan en promedio los clusters encontrados en relación con las variables clave:\n",
    "\n",
    "- **Vuelos Concurrentes:** mide la congestión operativa.\n",
    "- **PRCP:** precipitación promedio.\n",
    "- **TMAX:** temperatura máxima promedio.\n",
    "- **AWND:** velocidad promedio del viento.\n",
    "\n",
    "Cada eje del gráfico representa una de estas variables. Los clusters con valores más altos en un eje tienden a tener condiciones más extremas en esa dimensión.\n",
    "\n",
    "Esta visualización permite apreciar fácilmente las diferencias estructurales entre los grupos:\n",
    "- Un cluster con mayor congestión (pico alto en \"Vuelos Concurrentes\")\n",
    "- Otro más influenciado por clima extremo (pico en PRCP o AWND)\n",
    "- Y el cluster atípico con comportamientos distintos o balanceados.\n",
    "\n",
    "Esta representación complementa tanto el análisis numérico como el mapa de clusters, reforzando la utilidad del agrupamiento como herramienta exploratoria.\n"
   ]
  },
  {
   "cell_type": "markdown",
   "metadata": {
    "id": "hy6cjR88EuFk"
   },
   "source": [
    "###Conclusión del Módulo de Clustering\n",
    "\n",
    "El análisis de K-Means permitió identificar **tres agrupamientos diferenciados de aeropuertos** en función de su comportamiento operativo y climático. Si bien las métricas de evaluación indican una **estructura moderada**, el modelo logró capturar patrones regionales y climáticos relevantes.\n",
    "\n",
    "- **Cluster 1** agrupa aeropuertos altamente congestionados y ubicados en zonas más húmedas (este del país).\n",
    "- **Cluster 2** representa aeropuertos más cálidos, secos y aún más congestionados (principalmente del oeste).\n",
    "- **Cluster 0** debe ser tratado como un **outlier**, probablemente relacionado con datos faltantes o condiciones atípicas.\n",
    "\n",
    "Este análisis aporta una **visión estructural del sistema aeroportuario**, complementando los modelos supervisados centrados en la predicción de demoras. La segmentación obtenida podría ser útil para diseñar **estrategias diferenciadas de prevención, monitoreo y gestión**, adaptadas al tipo de aeropuerto.\n"
   ]
  },
  {
   "cell_type": "markdown",
   "metadata": {
    "id": "ctGLZnLWYr3I"
   },
   "source": [
    "# **ENCODING Y NORMALIZADO**"
   ]
  },
  {
   "cell_type": "markdown",
   "metadata": {
    "id": "70MygFf8thiw"
   },
   "source": [
    "El objetivo de esta etapa es transformar los datos crudos en un formato que los algoritmos de Machine Learning puedan entender y procesar correctamente.\n",
    "\n",
    "🧩 ¿Qué tareas incluye?\n",
    "Codificación de variables categóricas (texto)\n",
    "\n",
    "Los modelos no entienden strings como \"AA\" o \"Monday\". Hay que convertirlos en números.\n",
    "\n",
    "Se usan dos técnicas:\n",
    "\n",
    "**One Hot Encoding**: crea una columna binaria por categoría.\n",
    "\n",
    "**Label Encoding**: asigna un número a cada categoría.\n",
    "\n",
    "**Normalización de variables numéricas**\n",
    "\n",
    "📏 ¿Qué significa normalización de variables numéricas?\n",
    "\n",
    "La normalización es una técnica del preprocesamiento que transforma los valores numéricos de una columna para que estén en una misma escala. Esto es importante porque algunos modelos de Machine Learning (como KNN, regresión logística o redes neuronales) son sensibles a las magnitudes de las variables.\n",
    "\n",
    "🔧 ¿Qué métodos se usan?\n",
    "\n",
    "1. **MinMaxScaler (Normalización)**  \n",
    "   Escala los valores para que estén entre 0 y 1. Se recomienda cuando los datos están sesgados o tienen outliers.\n",
    "\n",
    "2. **StandardScaler (Estandarización)**  \n",
    "   Transforma los valores para que tengan media 0 y desvío estándar 1. Se usa cuando los datos tienen distribución más normal o simétrica.\n",
    "\n",
    "🎯 ¿Por qué lo hacemos?\n",
    "\n",
    "Para evitar que una variable con valores grandes domine el comportamiento del modelo solo por su escala. Al normalizar, todas las variables tienen el mismo \"peso\" inicial.\n",
    "\n",
    "\n",
    "Muchos algoritmos (como KNN, SVM, regresión logística) funcionan mejor si las variables están escaladas.\n",
    "\n",
    "Usamos:\n",
    "\n",
    "StandardScaler para variables distribuidas normal.\n",
    "\n",
    "MinMaxScaler para variables sesgadas (muy concentradas hacia un extremo)."
   ]
  },
  {
   "cell_type": "code",
   "execution_count": null,
   "metadata": {},
   "outputs": [],
   "source": [
    "from sklearn.preprocessing import OneHotEncoder, LabelEncoder, MinMaxScaler, StandardScaler\n",
    "from scipy.stats import skew\n",
    "\n",
    "def preprocesar_data(df_vuelos):\n",
    "    \"\"\"\n",
    "    Función para preprocesar los datos de df_vuelos.\n",
    "    - Realiza One Hot Encoding en variables categóricas con <= 8 categorías.\n",
    "    - Realiza Label Encoding en variables categóricas con > 8 categorías.\n",
    "    - Normaliza las variables numéricas entre 0 y 1.\n",
    "    \"\"\"\n",
    "    # Inicializamos los transformadores. Se crean los objetos que luego se usarán para transformar las columnas.\n",
    "    onehot_encoder = OneHotEncoder(drop='first', sparse_output=False)\n",
    "    label_encoder = LabelEncoder()\n",
    "    minmax_scaler = MinMaxScaler()\n",
    "    standard_scaler = StandardScaler()\n",
    "\n",
    "    # Variables categóricas y numéricas. Detecta cuáles columnas son categóricas (texto) y cuáles numéricas.\n",
    "    categorias = df_vuelos.select_dtypes(include=['object']).columns\n",
    "    numericas = df_vuelos.select_dtypes(exclude=['object']).columns\n",
    "\n",
    "    # Aplicamos One Hot Encoding o Label Encoding según corresponda.\n",
    "    #Si una columna tiene pocas categorías (≤8), aplica One Hot Encoding (ideal para variables tipo “día de la semana”, “clase”, etc.).\n",
    "    #Si tiene muchas, usa Label Encoding (más eficiente en columnas como “aerolínea”).\n",
    "    for col in categorias:\n",
    "        if df_vuelos[col].nunique() <= 8:\n",
    "            encoded = onehot_encoder.fit_transform(df_vuelos[[col]])\n",
    "            encoded_df = pd.DataFrame(encoded, columns=onehot_encoder.get_feature_names_out([col]))\n",
    "            df_vuelos = pd.concat([df_vuelos, encoded_df], axis=1)\n",
    "            df_vuelos.drop(columns=[col], inplace=True)\n",
    "        else:\n",
    "            df_vuelos[col] = label_encoder.fit_transform(df_vuelos[col])\n",
    "\n",
    "    # Normalizamos las variables numéricas\n",
    "      #Para cada columna numérica:\n",
    "        #Calcula su skew (asimetría). Si es muy alto, es una variable “sesgada”.\n",
    "        #Si está muy sesgada ➝ usa MinMaxScaler (lleva los valores entre 0 y 1).\n",
    "        #Si tiene distribución más normal ➝ usa StandardScaler (media 0, desvío 1).\n",
    "\n",
    "    for col in numericas:\n",
    "        # Calcular skewness de la columna\n",
    "        skewness = skew(df_vuelos[col].dropna())  # Ignorar valores NaN si los hay\n",
    "\n",
    "        # Escalar dependiendo del skewness\n",
    "        if abs(skewness) > 1:\n",
    "            # Si el skewness es alto, usamos MinMaxScaler\n",
    "            df_vuelos[col] = minmax_scaler.fit_transform(df_vuelos[[col]])\n",
    "        else:\n",
    "            # Si el skewness es bajo, usamos StandardScaler\n",
    "            df_vuelos[col] = standard_scaler.fit_transform(df_vuelos[[col]])\n",
    "\n",
    "    return df_vuelos\n",
    "\n",
    "# Llamar a la función\n",
    "df_vuelos_preprocesado = preprocesar_data(df_vuelos)\n",
    "\n",
    "# Mostrar los primeros registros del DataFrame preprocesado\n",
    "print(df_vuelos_preprocesado.head())\n"
   ]
  },
  {
   "cell_type": "code",
   "execution_count": null,
   "metadata": {},
   "outputs": [],
   "source": [
    "df_vuelos = pd.read_csv('/content/gdrive/MyDrive/CODER DATA SCIENCE/full_data_flightdelay.csv')\n",
    "df = df_vuelos.copy()\n",
    "df_preprocesado = preprocesar_data(df)"
   ]
  },
  {
   "cell_type": "code",
   "execution_count": null,
   "metadata": {},
   "outputs": [],
   "source": [
    "df.head(10)"
   ]
  },
  {
   "cell_type": "markdown",
   "metadata": {
    "id": "QJg6To8Lx5yp"
   },
   "source": [
    "Luego del preprocesamiento, el DataFrame `df_vuelos_preprocesado` contiene exclusivamente variables numéricas. Las variables categóricas fueron transformadas mediante One Hot Encoding o Label Encoding, y las variables numéricas fueron normalizadas o estandarizadas. Este dataset está listo para ser utilizado en modelos de Machine Learning."
   ]
  },
  {
   "cell_type": "code",
   "execution_count": null,
   "metadata": {},
   "outputs": [],
   "source": [
    "df_vuelos_preprocesado.info()"
   ]
  },
  {
   "cell_type": "markdown",
   "metadata": {
    "id": "Biq9hvZIyQh1"
   },
   "source": [
    "Como se observa, las variables ya no son de tipo Object."
   ]
  },
  {
   "cell_type": "markdown",
   "metadata": {
    "id": "b9vh0T0naXlv"
   },
   "source": [
    "# **CONSTRUCCION DE MODELOS**"
   ]
  },
  {
   "cell_type": "markdown",
   "metadata": {
    "id": "gCMtfUYWzqUy"
   },
   "source": [
    "En esta etapa se seleccionan las variables que se utilizarán como predictoras (features) para entrenar el modelo. Esta selección se puede realizar en base a la exploración previa, el conocimiento del dominio, o técnicas estadísticas.\n",
    "\n",
    "Luego, se separa el dataset en dos subconjuntos: entrenamiento (70%) y prueba (30%). El conjunto de entrenamiento se utiliza para ajustar el modelo, y el de prueba se reserva para evaluar su desempeño sobre datos no vistos."
   ]
  },
  {
   "cell_type": "markdown",
   "metadata": {
    "id": "q8efwSOXR2Cf"
   },
   "source": [
    "## Selección de variables predictoras (FEATURES)"
   ]
  },
  {
   "cell_type": "markdown",
   "metadata": {
    "id": "PpMrPOor27tF"
   },
   "source": [
    "En esta sección se seleccionan las variables predictoras (`features`) que se utilizarán para entrenar el modelo. La variable objetivo (`target`) será `DEP_DEL15`, que indica si un vuelo se demoró más de 15 minutos.\n",
    "\n",
    "Luego, se divide el conjunto de datos en entrenamiento (70%) y prueba (30%) utilizando `train_test_split`. Esta partición permite entrenar el modelo con un subconjunto de los datos y evaluarlo con ejemplos que no ha visto antes."
   ]
  },
  {
   "cell_type": "markdown",
   "metadata": {
    "id": "uAmogmRi2G4Y"
   },
   "source": [
    "FEATURES SELECCIONADAS: 'MONTH', 'DAY_OF_WEEK', 'LATITUDE', 'LONGITUDE', 'PRCP', 'DEP_TIME_BLK'"
   ]
  },
  {
   "cell_type": "code",
   "execution_count": null,
   "metadata": {},
   "outputs": [],
   "source": [
    "semilla = 142857"
   ]
  },
  {
   "cell_type": "markdown",
   "metadata": {
    "id": "EFWY5M3J0lUv"
   },
   "source": [
    "🎲 ¿Qué es una semilla aleatoria?\n",
    "En programación, muchas operaciones (como dividir los datos en entrenamiento y prueba) usan números aleatorios para decidir qué filas van a cada conjunto.\n",
    "\n",
    "Para que esos resultados sean reproducibles (es decir, que obtengas siempre el mismo resultado cada vez que corrés el código), se fija una semilla. Es como fijar el punto de inicio de la aleatoriedad.\n",
    "\n",
    "🧠 ¿Por qué usarla?\n",
    "Sin semilla: cada vez que corrés train_test_split, el resultado cambia.\n",
    "\n",
    "Con semilla: siempre te da el mismo corte de datos, lo que es clave para comparar modelos y resultados.\n",
    "\n",
    "📌 ¿Por qué 142857?\n",
    "Ese número no tiene un significado técnico especial. Podría ser cualquier entero.\n",
    "Sin embargo, 142857 es un número curioso:\n",
    "\n",
    "Es el ciclo repetitivo del decimal 1/7 = 0.142857142857...\n",
    "\n",
    "Algunas personas lo eligen como \"semilla memorable\", pero podrías usar cualquier número, como 42, 0, 123, etc.\n",
    "\n",
    "EN RESUMEN: es solo una forma de asegurar que el split de datos sea siempre el mismo."
   ]
  },
  {
   "cell_type": "markdown",
   "metadata": {
    "id": "uezfnoaB3U-s"
   },
   "source": [
    "## Train-Test Split"
   ]
  },
  {
   "cell_type": "markdown",
   "metadata": {
    "id": "ItVA0soF3iXJ"
   },
   "source": [
    "Es una técnica que consiste en dividir el dataset original en al menos dos subconjuntos:\n",
    "\n",
    "**Set de entrenamiento**: con el que el modelo \"aprende\" (70%)\n",
    "\n",
    "**Set de prueba (test)**: con el que el modelo se evalúa, para ver si generaliza bien a datos nuevos (30%)"
   ]
  },
  {
   "cell_type": "code",
   "execution_count": null,
   "metadata": {},
   "outputs": [],
   "source": [
    "from sklearn.model_selection import train_test_split\n",
    "from sklearn.linear_model import LogisticRegression\n",
    "from sklearn.metrics import accuracy_score, classification_report\n",
    "from sklearn.linear_model import LogisticRegression\n",
    "from sklearn.metrics import accuracy_score, classification_report\n",
    "\n",
    "# Definimos las características (features)\n",
    "columnas_seleccionadas = ['CARRIER_NAME', 'DEPARTING_AIRPORT', 'MONTH', 'DAY_OF_WEEK', 'DEP_TIME_BLK']\n",
    "\n",
    "# Creamos X e y\n",
    "X = df[columnas_seleccionadas]\n",
    "y = df['DEP_DEL15']  # Target: si el vuelo se demoró o no (0 = no, 1 = sí)\n",
    "\n",
    "# Dividimos en train/test con 70/30\n",
    "X_train, X_test, y_train, y_test = train_test_split(\n",
    "    X, y, test_size=0.3, random_state=42, stratify=y\n",
    ")\n",
    "\n",
    "# Verificamos los tamaños\n",
    "print(f\"Tamaño de X_train: {X_train.shape}\")\n",
    "print(f\"Tamaño de X_test: {X_test.shape}\")\n",
    "print(f\"Tamaño de y_train: {y_train.shape}\")\n",
    "print(f\"Tamaño de y_test: {y_test.shape}\")"
   ]
  },
  {
   "cell_type": "markdown",
   "metadata": {
    "id": "UVDI2nMu5Nwo"
   },
   "source": [
    "### Registro de resultados de modelos"
   ]
  },
  {
   "cell_type": "markdown",
   "metadata": {
    "id": "h93RD0XY5g7o"
   },
   "source": [
    "En esta sección se crea un DataFrame llamado `resultados_df` para almacenar y comparar el desempeño de los distintos modelos de clasificación entrenados.\n",
    "\n",
    "Este enfoque permite visualizar rápidamente cuál modelo tiene mejor rendimiento en función de diferentes métricas.\n",
    "\n",
    "Las columnas que se registran son:\n",
    "\n",
    "- **Modelo**: nombre del algoritmo utilizado.\n",
    "- **Accuracy**: proporción total de predicciones correctas.\n",
    "- **Precision**: entre los vuelos que el modelo predijo como demorados, cuántos efectivamente lo estaban.\n",
    "- **Recall**: entre los vuelos que efectivamente se demoraron, cuántos detectó el modelo.\n",
    "- **F1-Score**: promedio armónico entre precision y recall (balance entre ambas).\n",
    "- **ROCAUC**: área bajo la curva ROC, mide la capacidad de separación entre clases (cuanto más cerca de 1, mejor).\n",
    "- **Tiempo**: tiempo de entrenamiento del modelo (útil para comparar modelos más pesados).\n",
    "\n",
    "A medida que se prueben distintos algoritmos, sus resultados se irán agregando como filas a este DataFrame."
   ]
  },
  {
   "cell_type": "code",
   "execution_count": null,
   "metadata": {},
   "outputs": [],
   "source": [
    "# Creo DF para ir guardando los resultados\n",
    "column_names = [\"Modelo\", \"Accuracy\", \"Precision\", \"Recall\", \"ROCAUC\", \"F1-Score\", \"Tiempo\"]\n",
    "resultados_df = pd.DataFrame(columns=column_names)\n",
    "resultados_df"
   ]
  },
  {
   "cell_type": "markdown",
   "metadata": {
    "id": "IYuFrGXH555e"
   },
   "source": [
    "### Función para registrar métricas de evaluación del modelo"
   ]
  },
  {
   "cell_type": "markdown",
   "metadata": {
    "id": "0AbYC7bq6G09"
   },
   "source": [
    "Para facilitar la comparación entre modelos, se define una función llamada `guardo_resultados` que calcula las métricas más relevantes y devuelve los resultados en formato de tabla.\n",
    "\n",
    "Esta función recibe como entrada:\n",
    "- El nombre del modelo (`nombre_modelo`)\n",
    "- Los valores verdaderos (`y_test`) y predichos (`y_pred`)\n",
    "- El tiempo de ejecución del modelo\n",
    "\n",
    "Y calcula automáticamente:\n",
    "\n",
    "- **Accuracy**: qué porcentaje de predicciones fueron correctas\n",
    "- **Precision**: qué proporción de las predicciones positivas fueron correctas\n",
    "- **Recall**: qué proporción de los verdaderos positivos fueron detectados\n",
    "- **F1-Score**: promedio balanceado entre precision y recall\n",
    "- **ROC AUC**: capacidad del modelo para distinguir entre clases\n",
    "- **Tiempo**: cuánto tardó en entrenar o predecir\n",
    "\n",
    "Esto permite estandarizar el proceso de evaluación y mantener los resultados ordenados."
   ]
  },
  {
   "cell_type": "code",
   "execution_count": null,
   "metadata": {},
   "outputs": [],
   "source": [
    "# Función para guardar los resultados\n",
    "def guardo_resultados(nombre_modelo, y_test, y_pred, tiempo_ejecucion):\n",
    "\n",
    "    # Aquí calculamos las métricas de evaluación del modelo\n",
    "    from sklearn.metrics import accuracy_score, precision_score, recall_score, f1_score, confusion_matrix, roc_auc_score\n",
    "\n",
    "    # Calcular las métricas\n",
    "    accuracy = accuracy_score(y_test, y_pred)\n",
    "    precision = precision_score(y_test, y_pred)\n",
    "    recall = recall_score(y_test, y_pred)\n",
    "    f1 = f1_score(y_test, y_pred)\n",
    "    rocauc = roc_auc_score(y_test, y_pred)\n",
    "\n",
    "    # Crear un diccionario con los resultados\n",
    "    resultados_dict = {\n",
    "        'Modelo': [nombre_modelo],\n",
    "        'Accuracy': [accuracy],\n",
    "        'Precision': [precision],\n",
    "        'Recall': [recall],\n",
    "        'ROCAUC': [rocauc],\n",
    "        'F1-Score': [f1],\n",
    "        'Tiempo': [tiempo_ejecucion]\n",
    "    }\n",
    "\n",
    "    # Convertir el diccionario a un DataFrame\n",
    "    resultados_df = pd.DataFrame(resultados_dict)\n",
    "\n",
    "    return resultados_df"
   ]
  },
  {
   "cell_type": "markdown",
   "metadata": {
    "id": "yawmkxUu62YB"
   },
   "source": [
    "### Función para visualizar la matriz de confusión"
   ]
  },
  {
   "cell_type": "markdown",
   "metadata": {
    "id": "P4zd6er8H-ZG"
   },
   "source": [
    "📊 ¿Qué es una Matriz de Confusión?\n",
    "\n",
    "La matriz de confusión es una herramienta utilizada para evaluar el rendimiento de un modelo de clasificación.\n",
    "\n",
    "Permite comparar las **predicciones del modelo** con los **valores reales**, mostrando cuántos casos fueron correctamente o incorrectamente clasificados.\n",
    "\n",
    "En problemas de clasificación binaria (como \"vuelo demorado\" o \"no demorado\"), la matriz se organiza así:\n",
    "\n",
    "| Clase Real ↓ / Predicción → | No Demora (0) | Demora (1) |\n",
    "|-----------------------------|---------------|------------|\n",
    "| **No Demora (0)**           | Verdaderos Negativos (TN) | Falsos Positivos (FP) |\n",
    "| **Demora (1)**              | Falsos Negativos (FN)      | Verdaderos Positivos (TP) |\n",
    "\n",
    "🔍 ¿Qué significa en este proyecto?\n",
    "\n",
    "- **TP (Verdaderos Positivos):** vuelos que se demoraron y fueron correctamente predichos como demorados\n",
    "- **FP (Falsos Positivos):** vuelos que no se demoraron, pero el modelo los marcó como demorados\n",
    "- **FN (Falsos Negativos):** vuelos demorados que el modelo no logró detectar\n",
    "- **TN (Verdaderos Negativos):** vuelos que no se demoraron y fueron correctamente clasificados\n",
    "\n",
    "Analizar esta matriz permite entender no solo cuántas veces acertó el modelo, sino **en qué tipo de errores incurre**.\n"
   ]
  },
  {
   "cell_type": "markdown",
   "metadata": {
    "id": "ZAxLUjjL69wU"
   },
   "source": [
    "Para evaluar visualmente el rendimiento de los modelos de clasificación, se define una función que grafica la matriz de confusión.\n",
    "\n",
    "Esta función muestra dos versiones de la matriz:\n",
    "- Una **sin normalizar**, que indica la cantidad exacta de aciertos y errores.\n",
    "- Una **normalizada**, que representa los mismos valores en porcentaje del total.\n",
    "\n",
    "Esto permite interpretar fácilmente:\n",
    "- Cuántos vuelos fueron correctamente clasificados como demorados o no.\n",
    "- En qué casos el modelo se equivoca más.\n",
    "\n",
    "Esta herramienta se utilizará luego de realizar las predicciones, al evaluar cada modelo."
   ]
  },
  {
   "cell_type": "code",
   "execution_count": null,
   "metadata": {},
   "outputs": [],
   "source": [
    "from sklearn.metrics import confusion_matrix\n",
    "def matriz_confusion(y_test, y_pred):\n",
    "    fig, ax = plt.subplots(nrows=1, ncols=2, figsize=(12, 4))\n",
    "\n",
    "    # Matriz de confusión sin normalizar\n",
    "    conf_matrix = confusion_matrix(y_test, y_pred)\n",
    "    sns.heatmap(conf_matrix,\n",
    "                xticklabels=['OK (P)', 'Default (P)'],\n",
    "                yticklabels=['OK', 'Default'],\n",
    "                annot=True, fmt='d',\n",
    "                ax=ax[0],\n",
    "                square=True, linewidth=1)\n",
    "    ax[0].set_title('Sin Normalizar')\n",
    "    ax[0].set_xlabel('Predicción')\n",
    "    ax[0].set_ylabel('Clase Verdadera')\n",
    "\n",
    "    # Matriz de confusión normalizada\n",
    "    conf_matrix_norm = conf_matrix.astype('float') / conf_matrix.sum()\n",
    "    sns.heatmap(conf_matrix_norm,\n",
    "                xticklabels=['OK (P)', 'Default (P)'],\n",
    "                yticklabels=['OK', 'Default'],\n",
    "                annot=True, fmt='.2%',\n",
    "                ax=ax[1],\n",
    "                square=True, linewidth=1)\n",
    "    ax[1].set_title('Normalizada')\n",
    "    ax[1].set_xlabel('Predicción')\n",
    "    ax[1].set_ylabel('Clase Verdadera')\n",
    "\n",
    "    # Título general\n",
    "    plt.suptitle('Matriz de Confusión')\n",
    "    plt.show()"
   ]
  },
  {
   "cell_type": "markdown",
   "metadata": {
    "id": "d6U3Z4I27jtg"
   },
   "source": [
    "## ENTRENAMIENTO, EVALUACION y VISUALIZACION DE MODELOS ML"
   ]
  },
  {
   "cell_type": "markdown",
   "metadata": {
    "id": "Ax6tR0fu7yaX"
   },
   "source": [
    "Se define una función llamada `entrenar_modelo()` que automatiza el flujo completo para entrenar y evaluar modelos de clasificación.\n",
    "\n",
    "Esta función realiza las siguientes tareas:\n",
    "\n",
    "1. Entrena el modelo sobre los datos de entrenamiento (`X_train`, `y_train`).\n",
    "2. Mide el tiempo total que tarda en entrenar.\n",
    "3. Realiza predicciones sobre los datos de prueba.\n",
    "4. Calcula las métricas de evaluación: Accuracy, Precision, Recall, F1-Score y ROC AUC.\n",
    "5. Almacena los resultados en el DataFrame `resultados_df`, para compararlos con otros modelos.\n",
    "6. Muestra por pantalla el resumen de métricas.\n",
    "7. Visualiza la matriz de confusión en sus dos versiones: sin normalizar y normalizada.\n",
    "\n",
    "Esto permite ejecutar múltiples modelos de forma simple y mantener todos los resultados ordenados."
   ]
  },
  {
   "cell_type": "code",
   "execution_count": null,
   "metadata": {},
   "outputs": [],
   "source": [
    "# Función para entrenar el modelo, guardar métricas y mostrar matriz de confusión\n",
    "import time\n",
    "def entrenar_modelo(modelo, nombre_modelo, X_train, y_train, X_test, y_test, tf=False):\n",
    "\n",
    "    # Entrenamos el modelo y medimos el tiempo de ejecución\n",
    "    start = time.time()\n",
    "    if tf:\n",
    "        modelo.fit(X_train, y_train)\n",
    "    else:\n",
    "        modelo = modelo.fit(X_train, y_train)\n",
    "    end = time.time()\n",
    "    tiempo_ejecucion = end - start\n",
    "\n",
    "    # Predecimos\n",
    "    y_pred = modelo.predict(X_test) if not tf else np.where(modelo.predict(X_test) > 0.5, 1, 0)\n",
    "\n",
    "    # Guardamos los resultados en el DataFrame\n",
    "    resultados = guardo_resultados(nombre_modelo, y_test, y_pred, tiempo_ejecucion)\n",
    "\n",
    "    global resultados_df\n",
    "    resultados_df = pd.concat([resultados_df, resultados], ignore_index=True)\n",
    "\n",
    "    # Mostramos los resultados de este modelo\n",
    "    print(\"Resultados para el modelo:\", nombre_modelo)\n",
    "    print(resultados)\n",
    "\n",
    "    # Mostramos la matriz de confusión\n",
    "    matriz_confusion(y_test, y_pred)"
   ]
  },
  {
   "cell_type": "markdown",
   "metadata": {
    "id": "C46i4mPCk6Jl"
   },
   "source": [
    "###Regresión Logística"
   ]
  },
  {
   "cell_type": "markdown",
   "metadata": {
    "id": "l-VJnTDfBG5l"
   },
   "source": [
    "La regresión logística es un modelo de clasificación supervisado que estima la probabilidad de que una observación pertenezca a una clase (por ejemplo, si un vuelo se demorará o no).\n",
    "\n",
    "Aunque su nombre incluye \"regresión\", se utiliza para resolver problemas de clasificación binaria. Funciona ajustando una curva logística (sigmoide) que mapea los valores de entrada a probabilidades entre 0 y 1.\n",
    "\n",
    "Es un modelo sencillo y rápido, útil como punto de partida para establecer una línea base de rendimiento.\n"
   ]
  },
  {
   "cell_type": "code",
   "execution_count": null,
   "metadata": {},
   "outputs": [],
   "source": [
    "# Instanciamos el modelo\n",
    "modelo_lr = LogisticRegression(solver='liblinear', random_state=semilla)"
   ]
  },
  {
   "cell_type": "code",
   "execution_count": null,
   "metadata": {},
   "outputs": [],
   "source": [
    "# Entrenamos el modelo, calculamos métricas, graficamos matriz y guardamos resultados\n",
    "entrenar_modelo(modelo_lr, \"Regresión Logística\", X_train, y_train, X_test, y_test)"
   ]
  },
  {
   "cell_type": "markdown",
   "metadata": {
    "id": "xN2rsTxA_Pv4"
   },
   "source": [
    "### 📊 Tabla de métricas – Regresión Logística\n",
    "\n",
    "| Métrica      | Valor     | ¿Qué significa? |\n",
    "|--------------|-----------|-----------------|\n",
    "| Accuracy     | 0.8109    | El modelo acierta en el 81% de los casos totales. Parece bueno, pero... |\n",
    "| Precision    | 0.0000    | Nunca acierta cuando predice una demora. Esto indica que no está aprendiendo esa clase. |\n",
    "| Recall       | 0.0000    | De todos los vuelos que sí se demoraron, **no detecta ninguno**. ❗ |\n",
    "| F1-Score     | 0.0000    | No hay equilibrio entre precisión y recall: el modelo **no identifica demoras**. |\n",
    "| ROC AUC      | 0.5000    | El modelo **no distingue entre vuelos demorados y no demorados**. Es equivalente a adivinar. |\n",
    "| Tiempo       | ~17 seg   | Tiempo que tardó en entrenar y evaluar el modelo. |\n",
    "\n",
    "---\n",
    "\n",
    "### 🧱 Matriz de Confusión\n",
    "\n",
    "🔹 **Sin Normalizar**:\n",
    "\n",
    "|              | Predicho = No demora | Predicho = Demora |\n",
    "|--------------|----------------------|--------------------|\n",
    "| **Real = No**| 1,578,509 (TN)       | 0 (FP)             |\n",
    "| **Real = Sí**| 368,210 (FN)         | 0 (TP)             |\n",
    "\n",
    "🔹 **Normalizada**:\n",
    "\n",
    "|              | Predicho = No demora | Predicho = Demora |\n",
    "|--------------|----------------------|--------------------|\n",
    "| **Real = No**| 81.09%               | 0.00%              |\n",
    "| **Real = Sí**| 18.91%               | 0.00%              |\n",
    "\n",
    "---\n",
    "\n",
    "### 🧠 ¿Qué significa esto?\n",
    "\n",
    "El modelo tiene buena **accuracy** porque la mayoría de los vuelos **no se demoran**, y él simplemente predice “no demora” todo el tiempo.  \n",
    "Pero su **recall es 0**, lo que indica que **no detectó ni un solo vuelo demorado**.  \n",
    "Esto lo convierte en un modelo inútil para nuestro objetivo principal: **anticipar vuelos con demoras**.  \n",
    "\n",
    "🔎 Este resultado refleja un problema clásico en datasets desbalanceados: el modelo aprende a predecir la clase mayoritaria y **ignora la clase minoritaria (demoras)**.\n",
    "\n",
    "✅ En etapas posteriores del trabajo se exploran modelos más robustos y estrategias para superar este problema.\n"
   ]
  },
  {
   "cell_type": "markdown",
   "metadata": {
    "id": "Ei1-yib0lP40"
   },
   "source": [
    "###Random Forest"
   ]
  },
  {
   "cell_type": "markdown",
   "metadata": {
    "id": "1ZhL4p0tBOQ1"
   },
   "source": [
    "Random Forest es un algoritmo de clasificación basado en árboles de decisión. Construye múltiples árboles (un bosque) sobre diferentes subconjuntos de datos y luego combina sus resultados para tomar una decisión final.\n",
    "\n",
    "Este enfoque mejora la precisión y estabilidad del modelo al reducir el sobreajuste que puede ocurrir con un solo árbol.\n",
    "\n",
    "Es especialmente efectivo para conjuntos de datos grandes, con muchas variables y posibles relaciones no lineales. Además, maneja bien datos desbalanceados y permite obtener la importancia relativa de cada variable.\n"
   ]
  },
  {
   "cell_type": "code",
   "execution_count": null,
   "metadata": {},
   "outputs": [],
   "source": [
    "from sklearn.ensemble import RandomForestClassifier\n",
    "\n",
    "# Instanciamos el modelo\n",
    "modelo_rf = RandomForestClassifier(random_state=semilla)\n"
   ]
  },
  {
   "cell_type": "markdown",
   "metadata": {
    "id": "8iPnKjF_HCna"
   },
   "source": [
    "🛈 Nota: El modelo Random Forest fue utilizado como parte del trabajo exploratorio previo (primera entrega) y se incluye aquí como referencia.\n",
    "\n",
    "Por cuestiones de entorno y disponibilidad de recursos, no se ejecutó nuevamente en esta etapa, pero su desempeño ya fue documentado y comparado en su momento.\n",
    "\n",
    "El enfoque actual se centra en modelos más eficientes para la tarea de clasificación, como XGBoost y Árbol de Decisión.\n"
   ]
  },
  {
   "cell_type": "markdown",
   "metadata": {
    "id": "oodT39CBFPKZ"
   },
   "source": [
    "### XGBoost"
   ]
  },
  {
   "cell_type": "markdown",
   "metadata": {
    "id": "7fJ6JBPLFewr"
   },
   "source": [
    "¿Es XGBoost lo mismo que Random Forest?\n",
    "\n",
    "No. Aunque ambos modelos se basan en árboles de decisión, funcionan de forma diferente:\n",
    "\n",
    "- **Random Forest** entrena muchos árboles en paralelo y luego promedia los resultados. Es robusto, simple y reduce el sobreajuste.\n",
    "\n",
    "- **XGBoost** entrena árboles de forma secuencial. Cada árbol nuevo intenta corregir los errores del anterior. Esto lo convierte en un modelo más preciso, aunque más sensible al sobreajuste.\n",
    "\n",
    "XGBoost también permite aprovechar la **GPU**, lo que acelera mucho el entrenamiento en datasets grandes, como el usado en este trabajo.\n",
    "\n",
    "Ambos modelos fueron utilizados para comparar su desempeño sobre el mismo problema.\n"
   ]
  },
  {
   "cell_type": "code",
   "execution_count": null,
   "metadata": {},
   "outputs": [],
   "source": [
    "!pip install xgboost"
   ]
  },
  {
   "cell_type": "code",
   "execution_count": null,
   "metadata": {},
   "outputs": [],
   "source": [
    "from xgboost import XGBClassifier\n",
    "\n",
    "# Instanciamos el modelo con aceleración por GPU\n",
    "modelo_xgb = XGBClassifier(\n",
    "    tree_method='gpu_hist',         # Usa algoritmo optimizado para GPU\n",
    "    predictor='gpu_predictor',      # Usa la GPU para predecir\n",
    "    use_label_encoder=False,        # Desactiva el encoder obsoleto\n",
    "    eval_metric='logloss',          # Métrica para clasificación binaria\n",
    "    random_state=semilla            # Reproducibilidad\n",
    ")"
   ]
  },
  {
   "cell_type": "code",
   "execution_count": null,
   "metadata": {},
   "outputs": [],
   "source": [
    "# Entrenamos y evaluamos con nuestra función ya definida\n",
    "entrenar_modelo(modelo_xgb, \"XGBoost (GPU)\", X_train, y_train, X_test, y_test)"
   ]
  },
  {
   "cell_type": "markdown",
   "metadata": {
    "id": "UpQ9vd7bU1p8"
   },
   "source": [
    "### 📊 Tabla de métricas – XGBoost (GPU)\n",
    "\n",
    "| Métrica      | Valor     | ¿Qué significa? |\n",
    "|--------------|-----------|-----------------|\n",
    "| Accuracy     | 0.8119    | El modelo acierta en el 81% de los casos, similar a otros modelos. |\n",
    "| Precision    | 0.5747    | Cuando predice que un vuelo se demora, acierta el 57.5% de las veces. Bastante bien. |\n",
    "| Recall       | 0.0217    | De todos los vuelos que sí se demoraron, solo detecta un 2.17%. Mejor que la regresión, pero aún bajo. |\n",
    "| F1-Score     | 0.0418    | Muy bajo: el modelo **no logra equilibrio** entre precisión y recall. |\n",
    "| ROC AUC      | 0.5089    | El modelo apenas logra distinguir entre vuelos demorados y no demorados (0.5 es azar). |\n",
    "| Tiempo       | ~2.9 seg  | Tiempo total de entrenamiento y predicción. Rápido gracias al uso de GPU. |\n",
    "\n",
    "---\n",
    "\n",
    "### 🧱 Matriz de Confusión\n",
    "\n",
    "🔹 **Sin Normalizar**:\n",
    "\n",
    "|              | Predicho = No demora | Predicho = Demora |\n",
    "|--------------|----------------------|--------------------|\n",
    "| **Real = No**| 1,572,600 (TN)       | 5,909 (FP)         |\n",
    "| **Real = Sí**| 360,226 (FN)         | 7,984 (TP)         |\n",
    "\n",
    "🔹 **Normalizada**:\n",
    "\n",
    "|              | Predicho = No demora | Predicho = Demora |\n",
    "|--------------|----------------------|--------------------|\n",
    "| **Real = No**| 80.78%               | 0.30%              |\n",
    "| **Real = Sí**| 18.50%               | 0.41%              |\n",
    "\n",
    "---\n",
    "\n",
    "### 🧠 ¿Qué significa esto?\n",
    "\n",
    "Este modelo logra **mejorar ligeramente** el recall respecto a la regresión logística: detecta **7.984 vuelos demorados**, aunque deja pasar la gran mayoría.\n",
    "\n",
    "✅ La **precisión es aceptable**: cuando predice demora, suele acertar.\n",
    "\n",
    "❌ Pero el **recall sigue siendo bajo**: **detecta muy pocos de los vuelos que realmente se demoraron**.\n",
    "\n",
    "Esto refleja nuevamente el **efecto del desbalance de clases**, aunque en este caso **el modelo aprendió un poco mejor la clase minoritaria** (demorados).  \n",
    "La **ROC AUC cercana a 0.5** indica que el modelo **no logra separar bien ambas clases**.\n"
   ]
  },
  {
   "cell_type": "markdown",
   "metadata": {
    "id": "LjIscCrkHcpP"
   },
   "source": [
    "### Arbol de Desición"
   ]
  },
  {
   "cell_type": "code",
   "execution_count": null,
   "metadata": {},
   "outputs": [],
   "source": [
    "from sklearn.tree import DecisionTreeClassifier\n",
    "\n",
    "modelo_dt = DecisionTreeClassifier(random_state=semilla)\n",
    "entrenar_modelo(modelo_dt, \"Árbol de Decisión\", X_train, y_train, X_test, y_test)"
   ]
  },
  {
   "cell_type": "markdown",
   "metadata": {
    "id": "XKBfYbV7WAx4"
   },
   "source": [
    "### 📊 Tabla de métricas – Árbol de Decisión\n",
    "\n",
    "| Métrica      | Valor     | ¿Qué significa? |\n",
    "|--------------|-----------|-----------------|\n",
    "| Accuracy     | 0.8003    | El modelo acierta en el 80% de los casos totales. Similar a otros modelos. |\n",
    "| Precision    | 0.3939    | De todas las predicciones de demora, solo el 39.4% fueron correctas. Aceptable. |\n",
    "| Recall       | 0.1084    | Detecta el 10.8% de las demoras reales. Mejor que regresión y XGBoost. |\n",
    "| F1-Score     | 0.1644    | Baja: el modelo **aún no logra un buen balance entre precisión y recall**. |\n",
    "| ROC AUC      | 0.5333    | Mejor que azar, pero lejos de ser ideal. Tiene una capacidad limitada para distinguir clases. |\n",
    "| Tiempo       | ~27.2 seg | Tiempo de entrenamiento y predicción. Moderado. |\n",
    "\n",
    "---\n",
    "\n",
    "### 🧱 Matriz de Confusión\n",
    "\n",
    "🔹 **Sin Normalizar**:\n",
    "\n",
    "|              | Predicho = No demora | Predicho = Demora |\n",
    "|--------------|----------------------|--------------------|\n",
    "| **Real = No**| 1,519,655 (TN)       | 58,854 (FP)        |\n",
    "| **Real = Sí**| 329,966 (FN)         | 38,244 (TP)        |\n",
    "\n",
    "🔹 **Normalizada**:\n",
    "\n",
    "|              | Predicho = No demora | Predicho = Demora |\n",
    "|--------------|----------------------|--------------------|\n",
    "| **Real = No**| 78.06%               | 3.02%              |\n",
    "| **Real = Sí**| 16.95%               | 1.96%              |\n",
    "\n",
    "---\n",
    "\n",
    "### 🧠 ¿Qué significa esto?\n",
    "\n",
    "Este modelo mejora significativamente el **recall** respecto a regresión y XGBoost: logra detectar **38.244 vuelos demorados**. Aun así, deja pasar más de 320.000 demoras reales (FN).\n",
    "\n",
    "✅ La **precisión** se mantiene en niveles aceptables, y la **AUC sube levemente**, lo que indica que el modelo empieza a captar cierta diferencia entre clases.\n",
    "\n",
    "⚠️ Aun así, el desequilibrio de clases sigue afectando: hay muchos falsos negativos y una baja sensibilidad hacia la clase minoritaria (demoras).\n",
    "\n",
    "\n"
   ]
  },
  {
   "cell_type": "markdown",
   "metadata": {
    "id": "RRBpqsKOIuUh"
   },
   "source": [
    "### K-Nearest Neighbors (KNN)"
   ]
  },
  {
   "cell_type": "markdown",
   "metadata": {
    "id": "RtR6BEiHI0dA"
   },
   "source": [
    "KNN es un algoritmo de clasificación basado en proximidad. Para predecir una clase, el modelo busca los **k ejemplos más cercanos** al nuevo dato y asigna la clase más común entre ellos.\n",
    "\n",
    "No tiene fase de entrenamiento tradicional, pero puede ser más lento al predecir si hay muchos datos. Su rendimiento depende mucho del valor de `k` y de la escala de las variables.\n",
    "\n",
    "Se incluye en este análisis para comparar un enfoque basado en distancias con los modelos basados en árboles."
   ]
  },
  {
   "cell_type": "code",
   "execution_count": null,
   "metadata": {},
   "outputs": [],
   "source": [
    "from sklearn.neighbors import KNeighborsClassifier\n",
    "\n",
    "modelo_knn = KNeighborsClassifier(n_neighbors=5)\n",
    "entrenar_modelo(modelo_knn, \"KNN (k=5)\", X_train, y_train, X_test, y_test)"
   ]
  },
  {
   "cell_type": "markdown",
   "metadata": {
    "id": "bNFyt4X1XEbb"
   },
   "source": [
    "### 📊 Tabla de métricas – K-Nearest Neighbors (K=5)\n",
    "\n",
    "| Métrica      | Valor     | ¿Qué significa? |\n",
    "|--------------|-----------|-----------------|\n",
    "| Accuracy     | 0.7863    | Es la más baja de todos los modelos, pero sigue aceptable. |\n",
    "| Precision    | 0.3555    | De cada 100 predicciones de demora, 35 son correctas. Un nivel aceptable. |\n",
    "| Recall       | 0.1598    | Detecta el 15.98% de las demoras reales, el **mejor recall hasta ahora**. |\n",
    "| F1-Score     | 0.2205    | Aún bajo, pero superior al de los demás modelos. Muestra algo de equilibrio. |\n",
    "| ROC AUC      | 0.5461    | El modelo comienza a diferenciar un poco las clases, aunque aún con margen de mejora. |\n",
    "| Tiempo       | ~11.1 seg | Tiempo total de entrenamiento y predicción. Razonable para KNN. |\n",
    "\n",
    "---\n",
    "\n",
    "### 🧱 Matriz de Confusión\n",
    "\n",
    "🔹 **Sin Normalizar**:\n",
    "\n",
    "|              | Predicho = No demora | Predicho = Demora |\n",
    "|--------------|----------------------|--------------------|\n",
    "| **Real = No**| 1,471,806 (TN)       | 106,703 (FP)       |\n",
    "| **Real = Sí**| 309,358 (FN)         | 58,852 (TP)        |\n",
    "\n",
    "🔹 **Normalizada**:\n",
    "\n",
    "|              | Predicho = No demora | Predicho = Demora |\n",
    "|--------------|----------------------|--------------------|\n",
    "| **Real = No**| 75.60%               | 5.48%              |\n",
    "| **Real = Sí**| 15.89%               | 3.02%              |\n",
    "\n",
    "---\n",
    "\n",
    "### 🧠 ¿Qué significa esto?\n",
    "\n",
    "(En el modelo KNN, k=5 significa que para clasificar una observación, el algoritmo considera los 5 casos más similares (vecinos) y predice la clase más común entre ellos. Es un valor comúnmente utilizado por su buen equilibrio entre sensibilidad y estabilidad.)\n",
    "\n",
    "Este modelo obtiene el **mayor recall**, logrando detectar **58.852 vuelos demorados**, aunque a costa de generar **muchos falsos positivos (106.703)**.\n",
    "\n",
    "✅ La **precisión es aceptable** y el **F1-score es el más alto entre los modelos probados**, lo que indica un **mejor equilibrio general**.\n",
    "\n",
    "⚠️ Sin embargo, la accuracy cae por debajo del 79%, y la **ROC AUC sigue siendo baja** (0.546), lo que sugiere que aún no separa claramente las clases.\n",
    "\n",
    "🔎 Este comportamiento es común en modelos KNN sobre datos desbalanceados: prioriza cercanía en el espacio de características, pero puede verse afectado por la alta proporción de clases negativas.\n",
    "\n",
    "Es un modelo **interesante por su sensibilidad** a los casos que más nos importan (demoras), y puede ser útil como base para combinaciones o ensamblado con otros enfoques.\n",
    "\n",
    "Ideal si el negocio prioriza detectar la mayor cantidad posible de vuelos con problemas, aún con cierto margen de error.\n"
   ]
  },
  {
   "cell_type": "markdown",
   "metadata": {
    "id": "7a7YCUgalnVn"
   },
   "source": [
    "#CONCLUSIONES FINALES Y COMPARACION DE MODELOS"
   ]
  },
  {
   "cell_type": "markdown",
   "metadata": {
    "id": "mU8j0SFvLeAW"
   },
   "source": [
    "A continuación se presenta una tabla comparativa con las métricas de desempeño obtenidas por cada uno de los modelos de clasificación aplicados.\n",
    "\n",
    "Se evaluaron cinco enfoques diferentes: Regresión Logística, Random Forest, Árbol de Decisión, KNN y XGBoost (con aceleración por GPU).\n",
    "\n",
    "La tabla incluye métricas clave como Accuracy, Precision, Recall, F1-Score, ROC AUC y el tiempo de entrenamiento. Esta comparación permite identificar qué modelo ofrece el mejor equilibrio entre capacidad predictiva y eficiencia computacional según los objetivos del análisis."
   ]
  },
  {
   "cell_type": "code",
   "execution_count": null,
   "metadata": {},
   "outputs": [],
   "source": [
    "# Ordenar la tabla por F1-Score de mayor a menor\n",
    "resultados_ordenados = resultados_df.sort_values(by='F1-Score', ascending=False).reset_index(drop=True)\n",
    "\n",
    "# Mostrar la tabla ordenada\n",
    "import pandas.io.formats.style\n",
    "resultados_ordenados.style.background_gradient(cmap='Blues').format(precision=4)"
   ]
  },
  {
   "cell_type": "markdown",
   "metadata": {
    "id": "kuSm5CW7YYOv"
   },
   "source": [
    "### 📊 Resumen Final de Modelos Supervisados\n",
    "\n",
    "Tras evaluar y comparar distintos algoritmos de Machine Learning aplicados a la predicción de vuelos demorados, se concluye lo siguiente:\n",
    "\n",
    "- 🔹 **KNN (k=5)** obtuvo el mejor **Recall** (15.98%) y **F1-Score** (0.2205), convirtiéndolo en el modelo más efectivo para **detectar vuelos demorados**, aunque con menor accuracy general.\n",
    "- 🔹 El **Árbol de Decisión** mostró un buen balance entre precisión y sensibilidad, con resultados sólidos y sin requerir aceleración por GPU.\n",
    "- 🔹 **XGBoost (GPU)** destacó por su **alta precisión (57.47%)** y su velocidad de entrenamiento, siendo útil en contextos donde se prioriza eficiencia computacional.\n",
    "- 🔹 La **Regresión Logística**, aunque rápida y sencilla, no logró detectar ningún caso positivo, con recall y F1 iguales a 0.\n",
    "\n",
    "💡 La elección del modelo óptimo dependerá del objetivo del negocio. Si se prioriza **minimizar los falsos negativos** (es decir, evitar que se escapen vuelos demorados), **KNN o Árbol de Decisión** son las alternativas más recomendables.\n",
    "\n",
    "Este análisis demuestra cómo distintos algoritmos ofrecen fortalezas específicas, y cómo **comparar múltiples métricas** (no solo accuracy) es esencial para una toma de decisiones informada en contextos reales.\n",
    "\n",
    "---\n",
    "\n",
    "### ✅ ¿Con qué modelo me quedo?\n",
    "\n",
    "Dado que el objetivo principal del análisis es **detectar vuelos que probablemente se demoren**, se priorizó la métrica **Recall**, que mide la capacidad del modelo para identificar los casos positivos reales.\n",
    "\n",
    "En base a los resultados obtenidos, se recomienda el uso del modelo **KNN (k=5)**, ya que presentó el **mayor Recall (15.98%) y F1-Score (0.2205)** entre todos los modelos evaluados. Esto indica que es el modelo más efectivo para identificar la mayor cantidad posible de vuelos demorados, aunque eso implique una leve disminución en precisión y exactitud general.\n",
    "\n",
    "📌 Este enfoque resulta especialmente útil cuando **es preferible emitir una alerta preventiva de posible demora**, aunque no siempre se cumpla, antes que **ignorar vuelos que sí terminan demorándose**.\n"
   ]
  },
  {
   "cell_type": "markdown",
   "metadata": {
    "id": "B-NYaYYegaOt"
   },
   "source": [
    "# IMPLEMENTACION PROFESIONAL DEL MODELO FINAL: PIPELINE + PREDICCION AUTOMATIZADA"
   ]
  },
  {
   "cell_type": "markdown",
   "metadata": {
    "id": "VvVgmAIKg5OX"
   },
   "source": [
    "## ¿Por qué convertir el preprocesamiento en un Pipeline?\n"
   ]
  },
  {
   "cell_type": "markdown",
   "metadata": {
    "id": "gYtrg7Jpg-Xy"
   },
   "source": [
    "Durante la fase de entrenamiento y evaluación, se utilizó una función personalizada para preprocesar los datos. Este enfoque es completamente válido dentro del análisis exploratorio, pero presenta limitaciones cuando se busca reutilizar el modelo en otros entornos (como aplicaciones o interfaces web).\n",
    "\n",
    "Por eso, se construye un `Pipeline` de `sklearn` que encapsula tanto el preprocesamiento (OneHotEncoding y escalado) como el modelo final (KNN). Esto permite aplicar todo el flujo de transformación y predicción de forma automatizada sobre nuevos datos.\n"
   ]
  },
  {
   "cell_type": "markdown",
   "metadata": {
    "id": "1oPsOJLXhBy1"
   },
   "source": [
    "## Construcción del Pipeline con preprocesamiento y modelo KNN\n"
   ]
  },
  {
   "cell_type": "code",
   "execution_count": null,
   "metadata": {},
   "outputs": [],
   "source": [
    "from sklearn.compose import ColumnTransformer\n",
    "from sklearn.pipeline import Pipeline\n",
    "from sklearn.preprocessing import OneHotEncoder, StandardScaler\n",
    "from sklearn.neighbors import KNeighborsClassifier\n",
    "\n",
    "# Variables seleccionadas para la app\n",
    "columnas_seleccionadas = ['CARRIER_NAME', 'DEPARTING_AIRPORT', 'MONTH', 'DAY_OF_WEEK', 'DEP_TIME_BLK']\n",
    "\n",
    "# Separación de columnas categóricas y numéricas\n",
    "columnas_categoricas = ['CARRIER_NAME', 'DEPARTING_AIRPORT', 'DEP_TIME_BLK']\n",
    "columnas_numericas = ['MONTH', 'DAY_OF_WEEK']\n",
    "\n",
    "# Pipeline de preprocesamiento\n",
    "preprocessor = ColumnTransformer(\n",
    "    transformers=[\n",
    "        ('cat', OneHotEncoder(handle_unknown='ignore', sparse_output=False), columnas_categoricas),\n",
    "        ('num', StandardScaler(), columnas_numericas)\n",
    "    ]\n",
    ")\n",
    "\n",
    "# Modelo y pipeline\n",
    "modelo_knn = KNeighborsClassifier(n_neighbors=5)\n",
    "pipeline_knn = Pipeline(steps=[\n",
    "    ('preprocesamiento', preprocessor),\n",
    "    ('modelo', modelo_knn)\n",
    "])\n",
    "\n",
    "# Entrenamiento\n",
    "pipeline_knn.fit(X_train[columnas_seleccionadas], y_train)\n"
   ]
  },
  {
   "cell_type": "code",
   "execution_count": null,
   "metadata": {},
   "outputs": [],
   "source": [
    "import cloudpickle\n",
    "\n",
    "# Guardar el pipeline entrenado en un archivo .pkl\n",
    "with open(\"modelo_knn_pipeline.pkl\", \"wb\") as f:\n",
    "    cloudpickle.dump(pipeline_knn, f)\n"
   ]
  },
  {
   "cell_type": "code",
   "execution_count": null,
   "metadata": {},
   "outputs": [],
   "source": [
    "from google.colab import files\n",
    "files.download(\"modelo_knn_pipeline.pkl\")"
   ]
  },
  {
   "cell_type": "markdown",
   "metadata": {
    "id": "mD-nVZbdZeTR"
   },
   "source": [
    "## Predicción automatizada sobre un nuevo vuelo"
   ]
  },
  {
   "cell_type": "code",
   "execution_count": null,
   "metadata": {},
   "outputs": [],
   "source": [
    "import ipywidgets as widgets\n",
    "from IPython.display import display\n",
    "import pandas as pd\n",
    "import cloudpickle\n",
    "\n",
    "# ✅ Cargar modelo\n",
    "with open(\"modelo_knn_pipeline.pkl\", \"rb\") as f:\n",
    "    pipeline_knn = cloudpickle.load(f)\n",
    "\n",
    "# ✅ Cargar dataset real\n",
    "df_vuelos = pd.read_csv('/content/gdrive/MyDrive/CODER DATA SCIENCE/full_data_flightdelay.csv')\n",
    "\n",
    "# ✅ Widgets\n",
    "carrier_widget = widgets.Dropdown(\n",
    "    options=sorted(df_vuelos['CARRIER_NAME'].dropna().unique()),\n",
    "    description='Aerolínea:',\n",
    "    style={'description_width': 'initial'}\n",
    ")\n",
    "\n",
    "airport_widget = widgets.Dropdown(\n",
    "    options=sorted(df_vuelos['DEPARTING_AIRPORT'].dropna().unique()),\n",
    "    description='Aeropuerto:',\n",
    "    style={'description_width': 'initial'}\n",
    ")\n",
    "\n",
    "month_widget = widgets.IntSlider(\n",
    "    value=1, min=1, max=12, step=1, description='Mes:',\n",
    "    style={'description_width': 'initial'}\n",
    ")\n",
    "\n",
    "day_widget = widgets.IntSlider(\n",
    "    value=1, min=1, max=7, step=1, description='Día semana:',\n",
    "    style={'description_width': 'initial'}\n",
    ")\n",
    "\n",
    "dep_time_widget = widgets.Dropdown(\n",
    "    options=sorted(df_vuelos['DEP_TIME_BLK'].dropna().unique()),\n",
    "    description='Bloque hora:',\n",
    "    style={'description_width': 'initial'}\n",
    ")\n",
    "\n",
    "boton = widgets.Button(description=\"¿Se va a demorar el vuelo?\", button_style='primary')\n",
    "salida = widgets.Output()\n",
    "\n",
    "# ✅ Función de predicción\n",
    "def hacer_prediccion(b):\n",
    "    with salida:\n",
    "        salida.clear_output()  # Limpiar resultado anterior\n",
    "        nuevo = pd.DataFrame({\n",
    "            'CARRIER_NAME': [carrier_widget.value],\n",
    "            'DEPARTING_AIRPORT': [airport_widget.value],\n",
    "            'MONTH': [month_widget.value],\n",
    "            'DAY_OF_WEEK': [day_widget.value],\n",
    "            'DEP_TIME_BLK': [dep_time_widget.value]\n",
    "        })\n",
    "\n",
    "        pred = pipeline_knn.predict(nuevo)\n",
    "        print(\"✅ No se espera demora.\" if pred[0] == 0 else \"⚠️ Se espera una demora.\")\n",
    "\n",
    "# ✅ Conectar botón\n",
    "boton.on_click(hacer_prediccion)\n",
    "\n",
    "# ✅ Mostrar todo\n",
    "display(carrier_widget, airport_widget, month_widget, day_widget, dep_time_widget, boton, salida) #\n"
   ]
  },
  {
   "cell_type": "markdown",
   "metadata": {
    "id": "p3osp34EMQHk"
   },
   "source": [
    "📌 **Nota:** Esta celda fue comentada para evitar errores de renderizado en GitHub causados por widgets (`ipywidgets`).  "
   ]
  },
  {
   "cell_type": "markdown",
   "metadata": {
    "id": "f1yt7n8uRaAq"
   },
   "source": [
    "#✈️ CONCLUSION FINAL\n",
    "\n",
    "Este trabajo abordó el problema de predicción de demoras en vuelos desde una perspectiva integral, combinando **aprendizaje supervisado** y **no supervisado** para obtener tanto modelos predictivos como insights estructurales del sistema aeroportuario.\n",
    "\n",
    "En la etapa supervisada, se exploraron múltiples algoritmos (Regresión Logística, Árbol de Decisión, XGBoost y KNN), evaluando su rendimiento mediante métricas clave como **Accuracy, Precision, Recall, F1-Score y ROC AUC**.  \n",
    "Entre ellos, el modelo **KNN (k=5)** resultó el más adecuado para el objetivo del análisis: **detectar la mayor cantidad posible de vuelos que sí se demoran**, priorizando el **Recall** por sobre otras métricas tradicionales como la exactitud general.\n",
    "\n",
    "Complementariamente, se incorporó una técnica de **clustering con K-Means** para agrupar aeropuertos según características operativas y climáticas. Esta segmentación permitió detectar **tipologías aeroportuarias** sin necesidad de utilizar una variable objetivo, aportando valor exploratorio y contexto al análisis de demoras.\n",
    "\n",
    "---\n",
    "\n",
    "### Reflexión final\n",
    "\n",
    "El trabajo demuestra cómo **diferentes técnicas de Machine Learning pueden integrarse para comprender mejor fenómenos complejos**, como las demoras aéreas, donde intervienen múltiples factores simultáneos.  \n",
    "Además, resalta la importancia de **elegir las métricas adecuadas según el objetivo del negocio**, y no guiarse únicamente por el accuracy general.\n",
    "\n",
    "---\n",
    "\n",
    "### Líneas futuras\n",
    "\n",
    "- Incorporar técnicas de **balanceo de clases** (SMOTE, undersampling o penalización) para mejorar el recall sin sacrificar tanta precisión.\n",
    "- Integrar **más variables externas** (estado del aeropuerto, tipo de vuelo, capacidad de la aeronave).\n",
    "- Desarrollar un modelo capaz de predecir **en tiempo real**, integrable a sistemas operativos aeroportuarios o dashboards interactivos.\n",
    "\n",
    "Este enfoque puede extenderse a otros sistemas logísticos donde anticipar retrasos o eventos negativos resulte clave para la toma de decisiones y la eficiencia operativa.\n"
   ]
  },
  {
   "cell_type": "code",
   "execution_count": null,
   "metadata": {},
   "outputs": [],
   "source": [
    "from google.colab import files\n",
    "uploaded = files.upload()"
   ]
  },
  {
   "cell_type": "code",
   "execution_count": null,
   "metadata": {},
   "outputs": [],
   "source": [
    "!jupyter nbconvert --ClearMetadataPreprocessor.enabled=True \\\n",
    "                   --clear-output \\\n",
    "                   --to notebook \\\n",
    "                   --output SMART_FLIGHTS_GITHUB.ipynb \\\n",
    "                   SMART_FLIGHTS_II_Alonso_Castillo.ipynb"
   ]
  },
  {
   "cell_type": "code",
   "execution_count": null,
   "metadata": {},
   "outputs": [],
   "source": [
    "from google.colab import files\n",
    "files.download('SMART_FLIGHTS_GITHUB.ipynb')"
   ]
  }
 ],
 "metadata": {
  "language_info": {
   "name": "python"
  }
 },
 "nbformat": 4,
 "nbformat_minor": 0
}
